{
 "cells": [
  {
   "cell_type": "code",
   "execution_count": 1,
   "metadata": {
    "colab": {
     "base_uri": "https://localhost:8080/",
     "height": 128
    },
    "colab_type": "code",
    "id": "It41SdCVbNDN",
    "outputId": "87d546cc-293f-42da-aa21-9c7f7cd57dda"
   },
   "outputs": [
    {
     "name": "stdout",
     "output_type": "stream",
     "text": [
      "Go to this URL in a browser: https://accounts.google.com/o/oauth2/auth?client_id=947318989803-6bn6qk8qdgf4n4g3pfee6491hc0brc4i.apps.googleusercontent.com&redirect_uri=urn%3Aietf%3Awg%3Aoauth%3A2.0%3Aoob&scope=email%20https%3A%2F%2Fwww.googleapis.com%2Fauth%2Fdocs.test%20https%3A%2F%2Fwww.googleapis.com%2Fauth%2Fdrive%20https%3A%2F%2Fwww.googleapis.com%2Fauth%2Fdrive.photos.readonly%20https%3A%2F%2Fwww.googleapis.com%2Fauth%2Fpeopleapi.readonly&response_type=code\n",
      "\n",
      "Enter your authorization code:\n",
      "··········\n",
      "Mounted at /content/drive\n"
     ]
    }
   ],
   "source": [
    "from google.colab import drive\n",
    "drive.mount('/content/drive')"
   ]
  },
  {
   "cell_type": "code",
   "execution_count": 2,
   "metadata": {
    "colab": {
     "base_uri": "https://localhost:8080/",
     "height": 35
    },
    "colab_type": "code",
    "id": "2-DXzT9zbUF0",
    "outputId": "00f42dae-e32b-4496-9425-e42336344dd8"
   },
   "outputs": [
    {
     "data": {
      "text/plain": [
       "'/device:GPU:0'"
      ]
     },
     "execution_count": 2,
     "metadata": {
      "tags": []
     },
     "output_type": "execute_result"
    }
   ],
   "source": [
    "import tensorflow as tf\n",
    "tf.test.gpu_device_name()"
   ]
  },
  {
   "cell_type": "code",
   "execution_count": 3,
   "metadata": {
    "colab": {
     "base_uri": "https://localhost:8080/",
     "height": 35
    },
    "colab_type": "code",
    "id": "u_FrIouTbUSq",
    "outputId": "28b023a0-1edc-4e4f-ca84-9f7b1ea91fa5"
   },
   "outputs": [
    {
     "name": "stdout",
     "output_type": "stream",
     "text": [
      " dataset.csv   \u001b[0m\u001b[01;34mdrive\u001b[0m/  'Fields Explanation.xlsx'   \u001b[01;34msample_data\u001b[0m/\n"
     ]
    }
   ],
   "source": [
    "ls"
   ]
  },
  {
   "cell_type": "code",
   "execution_count": 1,
   "metadata": {
    "colab": {},
    "colab_type": "code",
    "id": "Zh2iLgFzbUdH"
   },
   "outputs": [],
   "source": [
    "# Importing essential modules to alleviate the task\n",
    "\n",
    "import numpy as np\n",
    "import pandas as pd\n",
    "import matplotlib\n",
    "import matplotlib.pyplot as plt\n",
    "%matplotlib inline"
   ]
  },
  {
   "cell_type": "code",
   "execution_count": 2,
   "metadata": {
    "colab": {},
    "colab_type": "code",
    "id": "y5jhZutIbNDR"
   },
   "outputs": [],
   "source": [
    "# reading excel file which contains information of important columns as per advised by NorthPark Innovation.\n",
    "\n",
    "get_col = pd.read_excel(\"Fields Explanation.xlsx\",header =None)"
   ]
  },
  {
   "cell_type": "code",
   "execution_count": 3,
   "metadata": {
    "colab": {
     "base_uri": "https://localhost:8080/",
     "height": 198
    },
    "colab_type": "code",
    "id": "il_pLMj4bNDU",
    "outputId": "4b8f498c-fa48-4329-f6ef-fb972b736b99"
   },
   "outputs": [
    {
     "data": {
      "text/html": [
       "<div>\n",
       "<style scoped>\n",
       "    .dataframe tbody tr th:only-of-type {\n",
       "        vertical-align: middle;\n",
       "    }\n",
       "\n",
       "    .dataframe tbody tr th {\n",
       "        vertical-align: top;\n",
       "    }\n",
       "\n",
       "    .dataframe thead th {\n",
       "        text-align: right;\n",
       "    }\n",
       "</style>\n",
       "<table border=\"1\" class=\"dataframe\">\n",
       "  <thead>\n",
       "    <tr style=\"text-align: right;\">\n",
       "      <th></th>\n",
       "      <th>0</th>\n",
       "      <th>1</th>\n",
       "      <th>2</th>\n",
       "      <th>3</th>\n",
       "    </tr>\n",
       "  </thead>\n",
       "  <tbody>\n",
       "    <tr>\n",
       "      <th>0</th>\n",
       "      <td>Equipment - NominalTonnage</td>\n",
       "      <td>User Input/Equipment Information</td>\n",
       "      <td>Y</td>\n",
       "      <td>Y</td>\n",
       "    </tr>\n",
       "    <tr>\n",
       "      <th>1</th>\n",
       "      <td>Equipment - Manufacturer</td>\n",
       "      <td>User Input/Equipment Information</td>\n",
       "      <td>N</td>\n",
       "      <td>NaN</td>\n",
       "    </tr>\n",
       "    <tr>\n",
       "      <th>2</th>\n",
       "      <td>Equipment - CompressorType</td>\n",
       "      <td>User Input/Equipment Information</td>\n",
       "      <td>Y</td>\n",
       "      <td>Y</td>\n",
       "    </tr>\n",
       "    <tr>\n",
       "      <th>3</th>\n",
       "      <td>Equipment - CondenserPhase</td>\n",
       "      <td>User Input/Equipment Information</td>\n",
       "      <td>Y</td>\n",
       "      <td>Y</td>\n",
       "    </tr>\n",
       "    <tr>\n",
       "      <th>4</th>\n",
       "      <td>Equipment - NumberofRefrigerantCircuits</td>\n",
       "      <td>User Input/Equipment Information</td>\n",
       "      <td>Y</td>\n",
       "      <td>Y</td>\n",
       "    </tr>\n",
       "  </tbody>\n",
       "</table>\n",
       "</div>"
      ],
      "text/plain": [
       "                                         0                                 1  \\\n",
       "0               Equipment - NominalTonnage  User Input/Equipment Information   \n",
       "1                 Equipment - Manufacturer  User Input/Equipment Information   \n",
       "2               Equipment - CompressorType  User Input/Equipment Information   \n",
       "3               Equipment - CondenserPhase  User Input/Equipment Information   \n",
       "4  Equipment - NumberofRefrigerantCircuits  User Input/Equipment Information   \n",
       "\n",
       "   2    3  \n",
       "0  Y    Y  \n",
       "1  N  NaN  \n",
       "2  Y    Y  \n",
       "3  Y    Y  \n",
       "4  Y    Y  "
      ]
     },
     "execution_count": 3,
     "metadata": {},
     "output_type": "execute_result"
    }
   ],
   "source": [
    "get_col.head()"
   ]
  },
  {
   "cell_type": "code",
   "execution_count": 4,
   "metadata": {
    "colab": {},
    "colab_type": "code",
    "id": "YbTnH4rTbNDY"
   },
   "outputs": [],
   "source": [
    "# Collecting important columns from given dataset which are marked as 'Y'\n",
    "\n",
    "cols = get_col[get_col[2] == 'Y'][list(get_col.columns)[:-1]]"
   ]
  },
  {
   "cell_type": "code",
   "execution_count": 5,
   "metadata": {
    "colab": {
     "base_uri": "https://localhost:8080/",
     "height": 35
    },
    "colab_type": "code",
    "id": "R6sdw6wobNDb",
    "outputId": "81a1d668-e632-4db7-deed-ff6f4ec626b9"
   },
   "outputs": [
    {
     "data": {
      "text/plain": [
       "(96, 3)"
      ]
     },
     "execution_count": 5,
     "metadata": {},
     "output_type": "execute_result"
    }
   ],
   "source": [
    "cols.shape"
   ]
  },
  {
   "cell_type": "code",
   "execution_count": 6,
   "metadata": {
    "colab": {
     "base_uri": "https://localhost:8080/",
     "height": 198
    },
    "colab_type": "code",
    "id": "cDqu9MeqbNDe",
    "outputId": "dae2ff58-47c2-4d49-9262-adb6e47a4e97"
   },
   "outputs": [
    {
     "data": {
      "text/html": [
       "<div>\n",
       "<style scoped>\n",
       "    .dataframe tbody tr th:only-of-type {\n",
       "        vertical-align: middle;\n",
       "    }\n",
       "\n",
       "    .dataframe tbody tr th {\n",
       "        vertical-align: top;\n",
       "    }\n",
       "\n",
       "    .dataframe thead th {\n",
       "        text-align: right;\n",
       "    }\n",
       "</style>\n",
       "<table border=\"1\" class=\"dataframe\">\n",
       "  <thead>\n",
       "    <tr style=\"text-align: right;\">\n",
       "      <th></th>\n",
       "      <th>0</th>\n",
       "      <th>1</th>\n",
       "      <th>2</th>\n",
       "    </tr>\n",
       "  </thead>\n",
       "  <tbody>\n",
       "    <tr>\n",
       "      <th>0</th>\n",
       "      <td>Equipment - NominalTonnage</td>\n",
       "      <td>User Input/Equipment Information</td>\n",
       "      <td>Y</td>\n",
       "    </tr>\n",
       "    <tr>\n",
       "      <th>2</th>\n",
       "      <td>Equipment - CompressorType</td>\n",
       "      <td>User Input/Equipment Information</td>\n",
       "      <td>Y</td>\n",
       "    </tr>\n",
       "    <tr>\n",
       "      <th>3</th>\n",
       "      <td>Equipment - CondenserPhase</td>\n",
       "      <td>User Input/Equipment Information</td>\n",
       "      <td>Y</td>\n",
       "    </tr>\n",
       "    <tr>\n",
       "      <th>4</th>\n",
       "      <td>Equipment - NumberofRefrigerantCircuits</td>\n",
       "      <td>User Input/Equipment Information</td>\n",
       "      <td>Y</td>\n",
       "    </tr>\n",
       "    <tr>\n",
       "      <th>5</th>\n",
       "      <td>Equipment - Split or Packaged</td>\n",
       "      <td>User Input/Equipment Information</td>\n",
       "      <td>Y</td>\n",
       "    </tr>\n",
       "  </tbody>\n",
       "</table>\n",
       "</div>"
      ],
      "text/plain": [
       "                                         0                                 1  \\\n",
       "0               Equipment - NominalTonnage  User Input/Equipment Information   \n",
       "2               Equipment - CompressorType  User Input/Equipment Information   \n",
       "3               Equipment - CondenserPhase  User Input/Equipment Information   \n",
       "4  Equipment - NumberofRefrigerantCircuits  User Input/Equipment Information   \n",
       "5            Equipment - Split or Packaged  User Input/Equipment Information   \n",
       "\n",
       "   2  \n",
       "0  Y  \n",
       "2  Y  \n",
       "3  Y  \n",
       "4  Y  \n",
       "5  Y  "
      ]
     },
     "execution_count": 6,
     "metadata": {},
     "output_type": "execute_result"
    }
   ],
   "source": [
    "cols.head()"
   ]
  },
  {
   "cell_type": "code",
   "execution_count": 7,
   "metadata": {
    "colab": {},
    "colab_type": "code",
    "id": "R-tEp3REbNDh"
   },
   "outputs": [],
   "source": [
    "# Reading main dataset\n",
    "\n",
    "ds = pd.read_csv(\"dataset.csv\", engine= 'python')"
   ]
  },
  {
   "cell_type": "code",
   "execution_count": 8,
   "metadata": {
    "colab": {
     "base_uri": "https://localhost:8080/",
     "height": 35
    },
    "colab_type": "code",
    "id": "UmFvxcBXbNDj",
    "outputId": "bce10829-be00-44ad-d4c5-ac5296b97078"
   },
   "outputs": [
    {
     "data": {
      "text/plain": [
       "(18707, 154)"
      ]
     },
     "execution_count": 8,
     "metadata": {},
     "output_type": "execute_result"
    }
   ],
   "source": [
    "ds.shape"
   ]
  },
  {
   "cell_type": "code",
   "execution_count": 9,
   "metadata": {
    "colab": {
     "base_uri": "https://localhost:8080/",
     "height": 645
    },
    "colab_type": "code",
    "id": "23VdMmf7bNDn",
    "outputId": "5544bc61-2e36-4433-c404-2ed04090b820"
   },
   "outputs": [
    {
     "data": {
      "text/html": [
       "<div>\n",
       "<style scoped>\n",
       "    .dataframe tbody tr th:only-of-type {\n",
       "        vertical-align: middle;\n",
       "    }\n",
       "\n",
       "    .dataframe tbody tr th {\n",
       "        vertical-align: top;\n",
       "    }\n",
       "\n",
       "    .dataframe thead th {\n",
       "        text-align: right;\n",
       "    }\n",
       "</style>\n",
       "<table border=\"1\" class=\"dataframe\">\n",
       "  <thead>\n",
       "    <tr style=\"text-align: right;\">\n",
       "      <th></th>\n",
       "      <th>Equipment - NominalTonnage</th>\n",
       "      <th>Equipment - Manufacturer</th>\n",
       "      <th>Equipment - CompressorType</th>\n",
       "      <th>Equipment - CondenserPhase</th>\n",
       "      <th>Equipment - NumberofRefrigerantCircuits</th>\n",
       "      <th>Equipment - Split or Packaged</th>\n",
       "      <th>Equipment - RefrigerantType</th>\n",
       "      <th>Equipment - CondenserModelNumber</th>\n",
       "      <th>Equipment - MeteringDevice</th>\n",
       "      <th>Equipment - AC or Heat Pump</th>\n",
       "      <th>...</th>\n",
       "      <th>TO_CapacityToNominal</th>\n",
       "      <th>TI_UnadjustedEER</th>\n",
       "      <th>TO_UnadjustedEER</th>\n",
       "      <th>TI_EERCorrectedToARIConditions</th>\n",
       "      <th>TO_EERCorrectedToARIConditions</th>\n",
       "      <th>EERpre</th>\n",
       "      <th>EERpost</th>\n",
       "      <th>DeemedEfficiencyLoss</th>\n",
       "      <th>TO_iManifoldWarning</th>\n",
       "      <th>EfficiencyLossEstimate</th>\n",
       "    </tr>\n",
       "  </thead>\n",
       "  <tbody>\n",
       "    <tr>\n",
       "      <th>0</th>\n",
       "      <td>2.0</td>\n",
       "      <td>RHEEM SALES COMPANY, INC.</td>\n",
       "      <td>Scroll</td>\n",
       "      <td>Single phase</td>\n",
       "      <td>1.0</td>\n",
       "      <td>Split</td>\n",
       "      <td>R410A</td>\n",
       "      <td>13AJN24A01</td>\n",
       "      <td>TXV</td>\n",
       "      <td>AC</td>\n",
       "      <td>...</td>\n",
       "      <td>108.38%</td>\n",
       "      <td>9.28</td>\n",
       "      <td>10.50</td>\n",
       "      <td>11.05</td>\n",
       "      <td>12.17</td>\n",
       "      <td>11.47</td>\n",
       "      <td>12.17</td>\n",
       "      <td>0.0572</td>\n",
       "      <td>Non-typical problem: Possible multiple problem...</td>\n",
       "      <td>9.20%</td>\n",
       "    </tr>\n",
       "    <tr>\n",
       "      <th>1</th>\n",
       "      <td>2.0</td>\n",
       "      <td>GOODMAN MANUFACTURING CO., LP.</td>\n",
       "      <td>Scroll</td>\n",
       "      <td>Single phase</td>\n",
       "      <td>1.0</td>\n",
       "      <td>Split</td>\n",
       "      <td>R22</td>\n",
       "      <td>GSC130241AA</td>\n",
       "      <td>TXV</td>\n",
       "      <td>AC</td>\n",
       "      <td>...</td>\n",
       "      <td>105.35%</td>\n",
       "      <td>8.13</td>\n",
       "      <td>10.41</td>\n",
       "      <td>9.52</td>\n",
       "      <td>11.68</td>\n",
       "      <td>10.09</td>\n",
       "      <td>11.68</td>\n",
       "      <td>0.1360</td>\n",
       "      <td>Inadequate Compressor Cooling</td>\n",
       "      <td>18.49%</td>\n",
       "    </tr>\n",
       "    <tr>\n",
       "      <th>2</th>\n",
       "      <td>2.0</td>\n",
       "      <td>GOODMAN MANUFACTURING CO., LP.</td>\n",
       "      <td>Scroll</td>\n",
       "      <td>Single phase</td>\n",
       "      <td>1.0</td>\n",
       "      <td>Split</td>\n",
       "      <td>R22</td>\n",
       "      <td>GSC130241AA</td>\n",
       "      <td>TXV</td>\n",
       "      <td>AC</td>\n",
       "      <td>...</td>\n",
       "      <td>110.26%</td>\n",
       "      <td>7.43</td>\n",
       "      <td>10.93</td>\n",
       "      <td>8.76</td>\n",
       "      <td>12.18</td>\n",
       "      <td>10.52</td>\n",
       "      <td>12.18</td>\n",
       "      <td>0.1360</td>\n",
       "      <td>Inadequate Compressor Cooling</td>\n",
       "      <td>28.08%</td>\n",
       "    </tr>\n",
       "    <tr>\n",
       "      <th>3</th>\n",
       "      <td>2.5</td>\n",
       "      <td>HAIER AMERICA</td>\n",
       "      <td>Scroll</td>\n",
       "      <td>Single phase</td>\n",
       "      <td>1.0</td>\n",
       "      <td>Split</td>\n",
       "      <td>R22</td>\n",
       "      <td>H30C1VAR</td>\n",
       "      <td>TXV</td>\n",
       "      <td>AC</td>\n",
       "      <td>...</td>\n",
       "      <td>106.94%</td>\n",
       "      <td>9.04</td>\n",
       "      <td>12.58</td>\n",
       "      <td>9.63</td>\n",
       "      <td>13.94</td>\n",
       "      <td>12.04</td>\n",
       "      <td>13.94</td>\n",
       "      <td>0.1360</td>\n",
       "      <td>Inadequate Compressor Cooling</td>\n",
       "      <td>30.92%</td>\n",
       "    </tr>\n",
       "    <tr>\n",
       "      <th>4</th>\n",
       "      <td>2.0</td>\n",
       "      <td>RHEEM SALES COMPANY, INC.</td>\n",
       "      <td>Scroll</td>\n",
       "      <td>Single phase</td>\n",
       "      <td>1.0</td>\n",
       "      <td>Split</td>\n",
       "      <td>R410A</td>\n",
       "      <td>13AJN24A01</td>\n",
       "      <td>TXV</td>\n",
       "      <td>AC</td>\n",
       "      <td>...</td>\n",
       "      <td>111.19%</td>\n",
       "      <td>8.07</td>\n",
       "      <td>10.75</td>\n",
       "      <td>9.98</td>\n",
       "      <td>12.51</td>\n",
       "      <td>10.81</td>\n",
       "      <td>12.51</td>\n",
       "      <td>0.1360</td>\n",
       "      <td>Non-typical problem: Possible multiple problem...</td>\n",
       "      <td>20.22%</td>\n",
       "    </tr>\n",
       "  </tbody>\n",
       "</table>\n",
       "<p>5 rows × 154 columns</p>\n",
       "</div>"
      ],
      "text/plain": [
       "   Equipment - NominalTonnage        Equipment - Manufacturer  \\\n",
       "0                         2.0       RHEEM SALES COMPANY, INC.   \n",
       "1                         2.0  GOODMAN MANUFACTURING CO., LP.   \n",
       "2                         2.0  GOODMAN MANUFACTURING CO., LP.   \n",
       "3                         2.5                   HAIER AMERICA   \n",
       "4                         2.0       RHEEM SALES COMPANY, INC.   \n",
       "\n",
       "  Equipment - CompressorType Equipment - CondenserPhase  \\\n",
       "0                     Scroll               Single phase   \n",
       "1                     Scroll               Single phase   \n",
       "2                     Scroll               Single phase   \n",
       "3                     Scroll               Single phase   \n",
       "4                     Scroll               Single phase   \n",
       "\n",
       "   Equipment - NumberofRefrigerantCircuits Equipment - Split or Packaged  \\\n",
       "0                                      1.0                         Split   \n",
       "1                                      1.0                         Split   \n",
       "2                                      1.0                         Split   \n",
       "3                                      1.0                         Split   \n",
       "4                                      1.0                         Split   \n",
       "\n",
       "  Equipment - RefrigerantType Equipment - CondenserModelNumber  \\\n",
       "0                       R410A                       13AJN24A01   \n",
       "1                         R22                      GSC130241AA   \n",
       "2                         R22                      GSC130241AA   \n",
       "3                         R22                         H30C1VAR   \n",
       "4                       R410A                       13AJN24A01   \n",
       "\n",
       "  Equipment - MeteringDevice Equipment - AC or Heat Pump  ...  \\\n",
       "0                        TXV                          AC  ...   \n",
       "1                        TXV                          AC  ...   \n",
       "2                        TXV                          AC  ...   \n",
       "3                        TXV                          AC  ...   \n",
       "4                        TXV                          AC  ...   \n",
       "\n",
       "  TO_CapacityToNominal TI_UnadjustedEER  TO_UnadjustedEER  \\\n",
       "0              108.38%             9.28             10.50   \n",
       "1              105.35%             8.13             10.41   \n",
       "2              110.26%             7.43             10.93   \n",
       "3              106.94%             9.04             12.58   \n",
       "4              111.19%             8.07             10.75   \n",
       "\n",
       "  TI_EERCorrectedToARIConditions TO_EERCorrectedToARIConditions EERpre  \\\n",
       "0                          11.05                          12.17  11.47   \n",
       "1                           9.52                          11.68  10.09   \n",
       "2                           8.76                          12.18  10.52   \n",
       "3                           9.63                          13.94  12.04   \n",
       "4                           9.98                          12.51  10.81   \n",
       "\n",
       "  EERpost DeemedEfficiencyLoss  \\\n",
       "0   12.17               0.0572   \n",
       "1   11.68               0.1360   \n",
       "2   12.18               0.1360   \n",
       "3   13.94               0.1360   \n",
       "4   12.51               0.1360   \n",
       "\n",
       "                                 TO_iManifoldWarning EfficiencyLossEstimate  \n",
       "0  Non-typical problem: Possible multiple problem...                  9.20%  \n",
       "1                      Inadequate Compressor Cooling                 18.49%  \n",
       "2                      Inadequate Compressor Cooling                 28.08%  \n",
       "3                      Inadequate Compressor Cooling                 30.92%  \n",
       "4  Non-typical problem: Possible multiple problem...                 20.22%  \n",
       "\n",
       "[5 rows x 154 columns]"
      ]
     },
     "execution_count": 9,
     "metadata": {},
     "output_type": "execute_result"
    }
   ],
   "source": [
    "ds.head()"
   ]
  },
  {
   "cell_type": "markdown",
   "metadata": {
    "colab_type": "text",
    "id": "OxY8ISrpbNDq"
   },
   "source": [
    "# Preprocessing"
   ]
  },
  {
   "cell_type": "code",
   "execution_count": 10,
   "metadata": {
    "colab": {},
    "colab_type": "code",
    "id": "qqd4AsptbNDr"
   },
   "outputs": [],
   "source": [
    "# When (AirflowMethodID == 2) then consider features \"TI_TESP\" and \"TO_TESP\".\n",
    "\n",
    "ds[\"TI_TESP\"] = np.where(ds[\"AirFlowMethodID\"] == (3 | 1), ds['TI_TESP'] * 0, ds['TI_TESP'] * 1)\n",
    "ds[\"TO_TESP\"] = np.where(ds[\"AirFlowMethodID\"] == (3 | 1), ds[\"TO_TESP\"] * 0, ds[\"TO_TESP\"] * 1)"
   ]
  },
  {
   "cell_type": "code",
   "execution_count": 11,
   "metadata": {
    "colab": {},
    "colab_type": "code",
    "id": "Uvf2UKeObNDu"
   },
   "outputs": [],
   "source": [
    "# It converts categorical value to numerical value as per their degree.\n",
    "\n",
    "def mapSpeedSetting(e):\n",
    "    if e == 'Hi':\n",
    "        return 5\n",
    "    elif e == 'Med-Hi':\n",
    "        return 4\n",
    "    elif e == 'Med':\n",
    "        return 3\n",
    "    elif e == 'Med-Lo':\n",
    "        return 2\n",
    "    elif e == 'Lo':\n",
    "        return 1"
   ]
  },
  {
   "cell_type": "code",
   "execution_count": 12,
   "metadata": {
    "colab": {},
    "colab_type": "code",
    "id": "AL9adS0dbNDw"
   },
   "outputs": [],
   "source": [
    "ds[\"TI_SpeedSetting\"] = ds[\"TI_SpeedSetting\"].apply(mapSpeedSetting)\n",
    "ds[\"TO_SpeedSetting\"] = ds[\"TO_SpeedSetting\"].apply(mapSpeedSetting)\n",
    "\n",
    "# When (\"Equipment - BlowerMotorType\" == \"PSC\") then consider features \"TI_SpeedSetting\" and \"TO_SpeedSetting\".\n",
    "\n",
    "ds[\"TI_SpeedSetting\"] = np.where(ds[\"Equipment - BlowerMotorType\"] == \"PSC\", ds[\"TI_SpeedSetting\"] * 1, ds[\"TI_SpeedSetting\"] * 0)\n",
    "ds[\"TO_SpeedSetting\"] = np.where(ds[\"Equipment - BlowerMotorType\"] == \"PSC\", ds[\"TO_SpeedSetting\"] * 1, ds[\"TO_SpeedSetting\"] * 0)"
   ]
  },
  {
   "cell_type": "code",
   "execution_count": 13,
   "metadata": {
    "colab": {},
    "colab_type": "code",
    "id": "Mh7vmxgHbNDz"
   },
   "outputs": [],
   "source": [
    "# When (AirflowMethodID === 2) then consider features \"TO_ReturnAirStaticPressure\" and \"TO_SupplyAirStaticPressure\".\n",
    "\n",
    "ds[\"TO_ReturnAirStaticPressure\"] = np.where(ds[\"AirFlowMethodID\"] == (3 | 1), ds['TO_ReturnAirStaticPressure'] * 0, ds['TO_ReturnAirStaticPressure'] * 1)\n",
    "ds[\"TO_SupplyAirStaticPressure\"] = np.where(ds[\"AirFlowMethodID\"] == (3 | 1), ds[\"TO_SupplyAirStaticPressure\"] * 0, ds[\"TO_SupplyAirStaticPressure\"] * 1)"
   ]
  },
  {
   "cell_type": "code",
   "execution_count": 14,
   "metadata": {
    "colab": {},
    "colab_type": "code",
    "id": "S1i40-2wbNHv"
   },
   "outputs": [],
   "source": [
    "# When (AirflowMethodID === 2) then consider features \"TI_iM_StaticPressureCFM\" and \"TO_iM_StaticPressureCFM\".\n",
    "\n",
    "ds[\"TI_iM_StaticPressureCFM\"] = np.where(ds[\"AirFlowMethodID\"] == (3 | 1), ds['TI_iM_StaticPressureCFM'] * 0, ds['TI_iM_StaticPressureCFM'] * 1)\n",
    "ds[\"TO_iM_StaticPressureCFM\"] = np.where(ds[\"AirFlowMethodID\"] == (3 | 1), ds[\"TO_iM_StaticPressureCFM\"] * 0, ds[\"TO_iM_StaticPressureCFM\"] * 1)"
   ]
  },
  {
   "cell_type": "code",
   "execution_count": 15,
   "metadata": {
    "colab": {},
    "colab_type": "code",
    "id": "E2akAkB5bNH2"
   },
   "outputs": [],
   "source": [
    "# Below dataframe object contains only important columns\n",
    "\n",
    "dt = ds[cols[0]]"
   ]
  },
  {
   "cell_type": "code",
   "execution_count": 16,
   "metadata": {
    "colab": {
     "base_uri": "https://localhost:8080/",
     "height": 35
    },
    "colab_type": "code",
    "id": "jHujhZUubNH9",
    "outputId": "53aadfa8-a87b-4d56-d95f-47afe9e3d7fa"
   },
   "outputs": [
    {
     "data": {
      "text/plain": [
       "(18707, 96)"
      ]
     },
     "execution_count": 16,
     "metadata": {},
     "output_type": "execute_result"
    }
   ],
   "source": [
    "dt.shape"
   ]
  },
  {
   "cell_type": "code",
   "execution_count": 17,
   "metadata": {
    "colab": {
     "base_uri": "https://localhost:8080/",
     "height": 420
    },
    "colab_type": "code",
    "id": "TPIdqHPobNIC",
    "outputId": "c7e378db-2fcc-42f3-f9ef-6151bf61a1c1"
   },
   "outputs": [
    {
     "data": {
      "text/html": [
       "<div>\n",
       "<style scoped>\n",
       "    .dataframe tbody tr th:only-of-type {\n",
       "        vertical-align: middle;\n",
       "    }\n",
       "\n",
       "    .dataframe tbody tr th {\n",
       "        vertical-align: top;\n",
       "    }\n",
       "\n",
       "    .dataframe thead th {\n",
       "        text-align: right;\n",
       "    }\n",
       "</style>\n",
       "<table border=\"1\" class=\"dataframe\">\n",
       "  <thead>\n",
       "    <tr style=\"text-align: right;\">\n",
       "      <th></th>\n",
       "      <th>Equipment - NominalTonnage</th>\n",
       "      <th>Equipment - CompressorType</th>\n",
       "      <th>Equipment - CondenserPhase</th>\n",
       "      <th>Equipment - NumberofRefrigerantCircuits</th>\n",
       "      <th>Equipment - Split or Packaged</th>\n",
       "      <th>Equipment - RefrigerantType</th>\n",
       "      <th>Equipment - MeteringDevice</th>\n",
       "      <th>Equipment - AC or Heat Pump</th>\n",
       "      <th>Equipment - BlowerMotorType</th>\n",
       "      <th>Equipment - LineSetLength</th>\n",
       "      <th>...</th>\n",
       "      <th>TO_CapacityToNominal</th>\n",
       "      <th>TI_UnadjustedEER</th>\n",
       "      <th>TO_UnadjustedEER</th>\n",
       "      <th>TI_EERCorrectedToARIConditions</th>\n",
       "      <th>TO_EERCorrectedToARIConditions</th>\n",
       "      <th>EERpre</th>\n",
       "      <th>EERpost</th>\n",
       "      <th>DeemedEfficiencyLoss</th>\n",
       "      <th>TO_iManifoldWarning</th>\n",
       "      <th>EfficiencyLossEstimate</th>\n",
       "    </tr>\n",
       "  </thead>\n",
       "  <tbody>\n",
       "    <tr>\n",
       "      <th>0</th>\n",
       "      <td>2.0</td>\n",
       "      <td>Scroll</td>\n",
       "      <td>Single phase</td>\n",
       "      <td>1.0</td>\n",
       "      <td>Split</td>\n",
       "      <td>R410A</td>\n",
       "      <td>TXV</td>\n",
       "      <td>AC</td>\n",
       "      <td>PSC</td>\n",
       "      <td>34.0</td>\n",
       "      <td>...</td>\n",
       "      <td>108.38%</td>\n",
       "      <td>9.28</td>\n",
       "      <td>10.50</td>\n",
       "      <td>11.05</td>\n",
       "      <td>12.17</td>\n",
       "      <td>11.47</td>\n",
       "      <td>12.17</td>\n",
       "      <td>0.0572</td>\n",
       "      <td>Non-typical problem: Possible multiple problem...</td>\n",
       "      <td>9.20%</td>\n",
       "    </tr>\n",
       "    <tr>\n",
       "      <th>1</th>\n",
       "      <td>2.0</td>\n",
       "      <td>Scroll</td>\n",
       "      <td>Single phase</td>\n",
       "      <td>1.0</td>\n",
       "      <td>Split</td>\n",
       "      <td>R22</td>\n",
       "      <td>TXV</td>\n",
       "      <td>AC</td>\n",
       "      <td>PSC</td>\n",
       "      <td>34.0</td>\n",
       "      <td>...</td>\n",
       "      <td>105.35%</td>\n",
       "      <td>8.13</td>\n",
       "      <td>10.41</td>\n",
       "      <td>9.52</td>\n",
       "      <td>11.68</td>\n",
       "      <td>10.09</td>\n",
       "      <td>11.68</td>\n",
       "      <td>0.1360</td>\n",
       "      <td>Inadequate Compressor Cooling</td>\n",
       "      <td>18.49%</td>\n",
       "    </tr>\n",
       "    <tr>\n",
       "      <th>2</th>\n",
       "      <td>2.0</td>\n",
       "      <td>Scroll</td>\n",
       "      <td>Single phase</td>\n",
       "      <td>1.0</td>\n",
       "      <td>Split</td>\n",
       "      <td>R22</td>\n",
       "      <td>TXV</td>\n",
       "      <td>AC</td>\n",
       "      <td>PSC</td>\n",
       "      <td>34.0</td>\n",
       "      <td>...</td>\n",
       "      <td>110.26%</td>\n",
       "      <td>7.43</td>\n",
       "      <td>10.93</td>\n",
       "      <td>8.76</td>\n",
       "      <td>12.18</td>\n",
       "      <td>10.52</td>\n",
       "      <td>12.18</td>\n",
       "      <td>0.1360</td>\n",
       "      <td>Inadequate Compressor Cooling</td>\n",
       "      <td>28.08%</td>\n",
       "    </tr>\n",
       "    <tr>\n",
       "      <th>3</th>\n",
       "      <td>2.5</td>\n",
       "      <td>Scroll</td>\n",
       "      <td>Single phase</td>\n",
       "      <td>1.0</td>\n",
       "      <td>Split</td>\n",
       "      <td>R22</td>\n",
       "      <td>TXV</td>\n",
       "      <td>AC</td>\n",
       "      <td>PSC</td>\n",
       "      <td>36.0</td>\n",
       "      <td>...</td>\n",
       "      <td>106.94%</td>\n",
       "      <td>9.04</td>\n",
       "      <td>12.58</td>\n",
       "      <td>9.63</td>\n",
       "      <td>13.94</td>\n",
       "      <td>12.04</td>\n",
       "      <td>13.94</td>\n",
       "      <td>0.1360</td>\n",
       "      <td>Inadequate Compressor Cooling</td>\n",
       "      <td>30.92%</td>\n",
       "    </tr>\n",
       "    <tr>\n",
       "      <th>4</th>\n",
       "      <td>2.0</td>\n",
       "      <td>Scroll</td>\n",
       "      <td>Single phase</td>\n",
       "      <td>1.0</td>\n",
       "      <td>Split</td>\n",
       "      <td>R410A</td>\n",
       "      <td>TXV</td>\n",
       "      <td>AC</td>\n",
       "      <td>PSC</td>\n",
       "      <td>34.0</td>\n",
       "      <td>...</td>\n",
       "      <td>111.19%</td>\n",
       "      <td>8.07</td>\n",
       "      <td>10.75</td>\n",
       "      <td>9.98</td>\n",
       "      <td>12.51</td>\n",
       "      <td>10.81</td>\n",
       "      <td>12.51</td>\n",
       "      <td>0.1360</td>\n",
       "      <td>Non-typical problem: Possible multiple problem...</td>\n",
       "      <td>20.22%</td>\n",
       "    </tr>\n",
       "  </tbody>\n",
       "</table>\n",
       "<p>5 rows × 96 columns</p>\n",
       "</div>"
      ],
      "text/plain": [
       "   Equipment - NominalTonnage Equipment - CompressorType  \\\n",
       "0                         2.0                     Scroll   \n",
       "1                         2.0                     Scroll   \n",
       "2                         2.0                     Scroll   \n",
       "3                         2.5                     Scroll   \n",
       "4                         2.0                     Scroll   \n",
       "\n",
       "  Equipment - CondenserPhase  Equipment - NumberofRefrigerantCircuits  \\\n",
       "0               Single phase                                      1.0   \n",
       "1               Single phase                                      1.0   \n",
       "2               Single phase                                      1.0   \n",
       "3               Single phase                                      1.0   \n",
       "4               Single phase                                      1.0   \n",
       "\n",
       "  Equipment - Split or Packaged Equipment - RefrigerantType  \\\n",
       "0                         Split                       R410A   \n",
       "1                         Split                         R22   \n",
       "2                         Split                         R22   \n",
       "3                         Split                         R22   \n",
       "4                         Split                       R410A   \n",
       "\n",
       "  Equipment - MeteringDevice Equipment - AC or Heat Pump  \\\n",
       "0                        TXV                          AC   \n",
       "1                        TXV                          AC   \n",
       "2                        TXV                          AC   \n",
       "3                        TXV                          AC   \n",
       "4                        TXV                          AC   \n",
       "\n",
       "  Equipment - BlowerMotorType  Equipment - LineSetLength  ...  \\\n",
       "0                         PSC                       34.0  ...   \n",
       "1                         PSC                       34.0  ...   \n",
       "2                         PSC                       34.0  ...   \n",
       "3                         PSC                       36.0  ...   \n",
       "4                         PSC                       34.0  ...   \n",
       "\n",
       "  TO_CapacityToNominal TI_UnadjustedEER TO_UnadjustedEER  \\\n",
       "0              108.38%             9.28            10.50   \n",
       "1              105.35%             8.13            10.41   \n",
       "2              110.26%             7.43            10.93   \n",
       "3              106.94%             9.04            12.58   \n",
       "4              111.19%             8.07            10.75   \n",
       "\n",
       "  TI_EERCorrectedToARIConditions TO_EERCorrectedToARIConditions EERpre  \\\n",
       "0                          11.05                          12.17  11.47   \n",
       "1                           9.52                          11.68  10.09   \n",
       "2                           8.76                          12.18  10.52   \n",
       "3                           9.63                          13.94  12.04   \n",
       "4                           9.98                          12.51  10.81   \n",
       "\n",
       "  EERpost DeemedEfficiencyLoss  \\\n",
       "0   12.17               0.0572   \n",
       "1   11.68               0.1360   \n",
       "2   12.18               0.1360   \n",
       "3   13.94               0.1360   \n",
       "4   12.51               0.1360   \n",
       "\n",
       "                                 TO_iManifoldWarning EfficiencyLossEstimate  \n",
       "0  Non-typical problem: Possible multiple problem...                  9.20%  \n",
       "1                      Inadequate Compressor Cooling                 18.49%  \n",
       "2                      Inadequate Compressor Cooling                 28.08%  \n",
       "3                      Inadequate Compressor Cooling                 30.92%  \n",
       "4  Non-typical problem: Possible multiple problem...                 20.22%  \n",
       "\n",
       "[5 rows x 96 columns]"
      ]
     },
     "execution_count": 17,
     "metadata": {},
     "output_type": "execute_result"
    }
   ],
   "source": [
    "dt.head()"
   ]
  },
  {
   "cell_type": "code",
   "execution_count": 18,
   "metadata": {
    "colab": {},
    "colab_type": "code",
    "id": "rxGD4dttbNIG"
   },
   "outputs": [],
   "source": [
    "import warnings\n",
    "warnings.filterwarnings(\"ignore\")"
   ]
  },
  {
   "cell_type": "code",
   "execution_count": 19,
   "metadata": {
    "colab": {},
    "colab_type": "code",
    "id": "-Rn8y48sbNIL"
   },
   "outputs": [],
   "source": [
    "# Removing those attributes who have more than 5% missing values.\n",
    "\n",
    "dt.dropna(thresh= len(dt) * 0.95, axis=1, inplace= True)"
   ]
  },
  {
   "cell_type": "code",
   "execution_count": 20,
   "metadata": {
    "colab": {
     "base_uri": "https://localhost:8080/",
     "height": 35
    },
    "colab_type": "code",
    "id": "wzAqFwdibNIQ",
    "outputId": "371ab27b-0f05-4d59-9179-035e2c1a02ee"
   },
   "outputs": [
    {
     "data": {
      "text/plain": [
       "(18707, 67)"
      ]
     },
     "execution_count": 20,
     "metadata": {},
     "output_type": "execute_result"
    }
   ],
   "source": [
    "dt.shape"
   ]
  },
  {
   "cell_type": "code",
   "execution_count": 21,
   "metadata": {
    "colab": {},
    "colab_type": "code",
    "id": "9IGb8bwlbNJH"
   },
   "outputs": [],
   "source": [
    "# Below attributes contain comma and % in the values. So these columns have to be cleaned.\n",
    "\n",
    "col_list = ['TI_SensibleCapacity','TO_SensibleCapacity','TI_LatentCapacity','TO_LatentCapacity','TI_TotalUnadjustedCapacity',\n",
    " 'TO_TotalUnadjustedCapacity','TI_TotalCapacityCorrectedToARIConditions','TO_TotalCapacityCorrectedToARIConditions',\n",
    " 'TI_CapacityToNominal','TO_CapacityToNominal', \"TI_CalculatedCFM\", \"TO_CalculatedCFM\", 'iManifold - TO CFM', \n",
    " \"TI_EERCorrectedToARIConditions\"]"
   ]
  },
  {
   "cell_type": "code",
   "execution_count": 22,
   "metadata": {
    "colab": {},
    "colab_type": "code",
    "id": "YKC_0GTabNJc"
   },
   "outputs": [],
   "source": [
    "# dt.to_excel(\"newDataset.xlsx\")"
   ]
  },
  {
   "cell_type": "code",
   "execution_count": 23,
   "metadata": {
    "colab": {},
    "colab_type": "code",
    "id": "qjItrSyNbNJi"
   },
   "outputs": [],
   "source": [
    "# Removing comma and percentage from col_list which are in \"dt\" dataframe object.\n",
    "\n",
    "for i in col_list:\n",
    "    try:\n",
    "        dt[i] = dt[i].str.replace(',', '').astype('float')\n",
    "    except ValueError:\n",
    "        dt[i] = dt[i].str.replace('%', '').astype('float')"
   ]
  },
  {
   "cell_type": "code",
   "execution_count": 24,
   "metadata": {
    "colab": {
     "base_uri": "https://localhost:8080/",
     "height": 1000
    },
    "colab_type": "code",
    "id": "PW1NHrakbNJn",
    "outputId": "df935627-182f-4884-b604-41c44a9a04b2",
    "scrolled": true
   },
   "outputs": [
    {
     "name": "stdout",
     "output_type": "stream",
     "text": [
      "<class 'pandas.core.frame.DataFrame'>\n",
      "RangeIndex: 18707 entries, 0 to 18706\n",
      "Data columns (total 67 columns):\n",
      "Equipment - NominalTonnage                  18706 non-null float64\n",
      "Equipment - CompressorType                  18706 non-null object\n",
      "Equipment - CondenserPhase                  18706 non-null object\n",
      "Equipment - NumberofRefrigerantCircuits     18706 non-null float64\n",
      "Equipment - Split or Packaged               18706 non-null object\n",
      "Equipment - RefrigerantType                 18706 non-null object\n",
      "Equipment - MeteringDevice                  18706 non-null object\n",
      "Equipment - AC or Heat Pump                 18706 non-null object\n",
      "Equipment - BlowerMotorType                 18694 non-null object\n",
      "TRM_Building                                18660 non-null object\n",
      "CondenserConditionPre                       18704 non-null object\n",
      "EvaporatorConditionPre                      18704 non-null object\n",
      "BlowerConditionPre                          18700 non-null object\n",
      "FilterConditionPre                          18705 non-null object\n",
      "CondenserCleaned                            18707 non-null object\n",
      "EvaporatorCleaned                           18707 non-null object\n",
      "BlowerCleaned                               18707 non-null object\n",
      "FilterCleanedOrReplaced                     18693 non-null object\n",
      "RecommendReplaceUnit                        18707 non-null object\n",
      "AirFlowMethodID                             18697 non-null float64\n",
      "TI_TESP                                     18707 non-null float64\n",
      "TO_TESP                                     18707 non-null float64\n",
      "TI_CalculatedCFM                            18671 non-null float64\n",
      "TO_CalculatedCFM                            18695 non-null float64\n",
      "TI_CalculatedCFMPerTon                      18671 non-null float64\n",
      "TO_CalculatedCFMPerTon                      18695 non-null float64\n",
      "iManifold - TO CFM                          18520 non-null float64\n",
      "TO_SuctionPressure                          18694 non-null float64\n",
      "TO_DischargePressure                        18694 non-null float64\n",
      "TO_EvaporatorTemperature                    18693 non-null float64\n",
      "TO_CondenserTemperature                     18693 non-null float64\n",
      "TO_Superheat                                18693 non-null float64\n",
      "iManifold - Target superheat                18439 non-null float64\n",
      "TO_Subcooling                               18692 non-null float64\n",
      "TO_SubcoolingTarget                         18707 non-null float64\n",
      "iManifold - Target subcooling               18523 non-null float64\n",
      "TO_VaporLineTemperature                     18694 non-null float64\n",
      "TO_LiquidLineTemperature                    18694 non-null float64\n",
      "TO_OutdoorAirDryBulbTemperature             18694 non-null float64\n",
      "TO_ReturnAirDryBulb                         18694 non-null float64\n",
      "TO_ReturnAirWetBulb                         18694 non-null float64\n",
      "TO_SupplyAirDryBulb                         18694 non-null float64\n",
      "TO_SupplyAirWetBulb                         18694 non-null float64\n",
      "TI_ReturnAirEnthalpy                        18707 non-null float64\n",
      "TO_ReturnAirEnthalpy                        18707 non-null float64\n",
      "TI_SupplyAirEnthalpy                        18707 non-null float64\n",
      "TO_SupplyAirEnthalpy                        18707 non-null float64\n",
      "TI_DeltahOrChangeInEnthalpy                 18707 non-null float64\n",
      "TO_DeltahOrChangeInEnthalpy                 18707 non-null float64\n",
      "TI_SensibleCapacity                         18671 non-null float64\n",
      "TO_SensibleCapacity                         18695 non-null float64\n",
      "TI_LatentCapacity                           18671 non-null float64\n",
      "TO_LatentCapacity                           18695 non-null float64\n",
      "TI_TotalUnadjustedCapacity                  18671 non-null float64\n",
      "TO_TotalUnadjustedCapacity                  18695 non-null float64\n",
      "TI_TotalCapacityCorrectedToARIConditions    18671 non-null float64\n",
      "TO_TotalCapacityCorrectedToARIConditions    18695 non-null float64\n",
      "TI_CapacityToNominal                        18671 non-null float64\n",
      "TO_CapacityToNominal                        18695 non-null float64\n",
      "TI_UnadjustedEER                            18706 non-null float64\n",
      "TO_UnadjustedEER                            18703 non-null float64\n",
      "TI_EERCorrectedToARIConditions              18706 non-null float64\n",
      "TO_EERCorrectedToARIConditions              18703 non-null float64\n",
      "EERpre                                      18703 non-null float64\n",
      "EERpost                                     18703 non-null float64\n",
      "DeemedEfficiencyLoss                        18707 non-null float64\n",
      "TO_iManifoldWarning                         18522 non-null object\n",
      "dtypes: float64(49), object(18)\n",
      "memory usage: 9.6+ MB\n"
     ]
    }
   ],
   "source": [
    "# It gives informative things about dataset\n",
    "# 1.) how many columns are categorical and numerical variable?\n",
    "# 2.) How many values are missing in each attribute?\n",
    "\n",
    "dt.info()"
   ]
  },
  {
   "cell_type": "code",
   "execution_count": 25,
   "metadata": {
    "colab": {},
    "colab_type": "code",
    "id": "HR8gi-NrbNJr"
   },
   "outputs": [],
   "source": [
    "# Removing those instances which have no label.\n",
    "\n",
    "df = dt[dt[\"TO_iManifoldWarning\"].notnull()]"
   ]
  },
  {
   "cell_type": "code",
   "execution_count": 26,
   "metadata": {
    "colab": {
     "base_uri": "https://localhost:8080/",
     "height": 35
    },
    "colab_type": "code",
    "id": "GZI-YSPObNJv",
    "outputId": "344337c9-d9e2-457e-c766-71cf0964ff43"
   },
   "outputs": [
    {
     "data": {
      "text/plain": [
       "(18522, 67)"
      ]
     },
     "execution_count": 26,
     "metadata": {},
     "output_type": "execute_result"
    }
   ],
   "source": [
    "df.shape"
   ]
  },
  {
   "cell_type": "code",
   "execution_count": 27,
   "metadata": {
    "colab": {},
    "colab_type": "code",
    "id": "gs4OyJsRbNJy"
   },
   "outputs": [],
   "source": [
    "# Collecting unique label\n",
    "\n",
    "y = {}\n",
    "for i,j in enumerate(df[\"TO_iManifoldWarning\"].unique()):\n",
    "    y[j] = i"
   ]
  },
  {
   "cell_type": "code",
   "execution_count": 28,
   "metadata": {
    "colab": {},
    "colab_type": "code",
    "id": "usKXd2cxbNJ0"
   },
   "outputs": [],
   "source": [
    "# Mapping warnings to numeric value\n",
    "\n",
    "df[\"TO_iManifoldWarning\"] = df[\"TO_iManifoldWarning\"].map(y)"
   ]
  },
  {
   "cell_type": "code",
   "execution_count": 29,
   "metadata": {
    "colab": {},
    "colab_type": "code",
    "id": "E9qbXvTybNJ3"
   },
   "outputs": [],
   "source": [
    "# Deleting feature \"TRM_Building\" from our dataframe object df.\n",
    "\n",
    "del df[\"TRM_Building\"]"
   ]
  },
  {
   "cell_type": "code",
   "execution_count": 30,
   "metadata": {
    "colab": {
     "base_uri": "https://localhost:8080/",
     "height": 308
    },
    "colab_type": "code",
    "id": "XaNcYZzybNJ5",
    "outputId": "8ea5cace-a18f-4f31-b312-1b9dcb0465ae"
   },
   "outputs": [
    {
     "data": {
      "text/plain": [
       "['BlowerCleaned',\n",
       " 'BlowerConditionPre',\n",
       " 'CondenserCleaned',\n",
       " 'CondenserConditionPre',\n",
       " 'Equipment - AC or Heat Pump',\n",
       " 'Equipment - BlowerMotorType',\n",
       " 'Equipment - CompressorType',\n",
       " 'Equipment - CondenserPhase',\n",
       " 'Equipment - MeteringDevice',\n",
       " 'Equipment - RefrigerantType',\n",
       " 'Equipment - Split or Packaged',\n",
       " 'EvaporatorCleaned',\n",
       " 'EvaporatorConditionPre',\n",
       " 'FilterCleanedOrReplaced',\n",
       " 'FilterConditionPre',\n",
       " 'RecommendReplaceUnit']"
      ]
     },
     "execution_count": 30,
     "metadata": {},
     "output_type": "execute_result"
    }
   ],
   "source": [
    "# Object type or Categorical columns\n",
    "\n",
    "cat_cols = list(set(df.columns) - set(df._get_numeric_data().columns) -set([\"TO_iManifoldWarning\"]))\n",
    "cat_cols.sort()\n",
    "cat_cols"
   ]
  },
  {
   "cell_type": "code",
   "execution_count": 31,
   "metadata": {
    "colab": {},
    "colab_type": "code",
    "id": "sRqWbm1pbNJ9"
   },
   "outputs": [],
   "source": [
    "# Numerical columns\n",
    "\n",
    "num_cols = list(df._get_numeric_data().columns)"
   ]
  },
  {
   "cell_type": "code",
   "execution_count": 32,
   "metadata": {
    "colab": {
     "base_uri": "https://localhost:8080/",
     "height": 326
    },
    "colab_type": "code",
    "id": "zCi3pmnxbNKA",
    "outputId": "1850b16a-0383-466c-9b52-79c6163bf064"
   },
   "outputs": [
    {
     "data": {
      "text/plain": [
       "BlowerCleaned                     0\n",
       "BlowerConditionPre                6\n",
       "CondenserCleaned                  0\n",
       "CondenserConditionPre             2\n",
       "Equipment - AC or Heat Pump       0\n",
       "Equipment - BlowerMotorType      12\n",
       "Equipment - CompressorType        0\n",
       "Equipment - CondenserPhase        0\n",
       "Equipment - MeteringDevice        0\n",
       "Equipment - RefrigerantType       0\n",
       "Equipment - Split or Packaged     0\n",
       "EvaporatorCleaned                 0\n",
       "EvaporatorConditionPre            2\n",
       "FilterCleanedOrReplaced          13\n",
       "FilterConditionPre                1\n",
       "RecommendReplaceUnit              0\n",
       "dtype: int64"
      ]
     },
     "execution_count": 32,
     "metadata": {},
     "output_type": "execute_result"
    }
   ],
   "source": [
    "# Missing values in categorical columns\n",
    "\n",
    "df[cat_cols].isnull().sum()"
   ]
  },
  {
   "cell_type": "code",
   "execution_count": 33,
   "metadata": {
    "colab": {
     "base_uri": "https://localhost:8080/",
     "height": 945
    },
    "colab_type": "code",
    "id": "0mszIV5ebNKD",
    "outputId": "cb089150-7464-41e2-eddb-d893254cd13f"
   },
   "outputs": [
    {
     "data": {
      "text/plain": [
       "Equipment - NominalTonnage                   0\n",
       "Equipment - NumberofRefrigerantCircuits      0\n",
       "AirFlowMethodID                              0\n",
       "TI_TESP                                      0\n",
       "TO_TESP                                      0\n",
       "TI_CalculatedCFM                             8\n",
       "TO_CalculatedCFM                             2\n",
       "TI_CalculatedCFMPerTon                       8\n",
       "TO_CalculatedCFMPerTon                       2\n",
       "iManifold - TO CFM                           3\n",
       "TO_SuctionPressure                           0\n",
       "TO_DischargePressure                         0\n",
       "TO_EvaporatorTemperature                     0\n",
       "TO_CondenserTemperature                      0\n",
       "TO_Superheat                                 0\n",
       "iManifold - Target superheat                84\n",
       "TO_Subcooling                                1\n",
       "TO_SubcoolingTarget                          0\n",
       "iManifold - Target subcooling                0\n",
       "TO_VaporLineTemperature                      0\n",
       "TO_LiquidLineTemperature                     0\n",
       "TO_OutdoorAirDryBulbTemperature              0\n",
       "TO_ReturnAirDryBulb                          0\n",
       "TO_ReturnAirWetBulb                          0\n",
       "TO_SupplyAirDryBulb                          0\n",
       "TO_SupplyAirWetBulb                          0\n",
       "TI_ReturnAirEnthalpy                         0\n",
       "TO_ReturnAirEnthalpy                         0\n",
       "TI_SupplyAirEnthalpy                         0\n",
       "TO_SupplyAirEnthalpy                         0\n",
       "TI_DeltahOrChangeInEnthalpy                  0\n",
       "TO_DeltahOrChangeInEnthalpy                  0\n",
       "TI_SensibleCapacity                          8\n",
       "TO_SensibleCapacity                          2\n",
       "TI_LatentCapacity                            8\n",
       "TO_LatentCapacity                            2\n",
       "TI_TotalUnadjustedCapacity                   8\n",
       "TO_TotalUnadjustedCapacity                   2\n",
       "TI_TotalCapacityCorrectedToARIConditions     8\n",
       "TO_TotalCapacityCorrectedToARIConditions     2\n",
       "TI_CapacityToNominal                         8\n",
       "TO_CapacityToNominal                         2\n",
       "TI_UnadjustedEER                             1\n",
       "TO_UnadjustedEER                             2\n",
       "TI_EERCorrectedToARIConditions               1\n",
       "TO_EERCorrectedToARIConditions               2\n",
       "EERpre                                       2\n",
       "EERpost                                      2\n",
       "DeemedEfficiencyLoss                         0\n",
       "TO_iManifoldWarning                          0\n",
       "dtype: int64"
      ]
     },
     "execution_count": 33,
     "metadata": {},
     "output_type": "execute_result"
    }
   ],
   "source": [
    "# Missing values in Numerical columns\n",
    "\n",
    "df[num_cols].isnull().sum()"
   ]
  },
  {
   "cell_type": "code",
   "execution_count": 34,
   "metadata": {
    "colab": {},
    "colab_type": "code",
    "id": "NqyvB3OBbNKG"
   },
   "outputs": [],
   "source": [
    "# Filling all missing values with mean in numerical columns and mode with in categorical columns.\n",
    "\n",
    "for i in range(len(cat_cols)):\n",
    "    df[cat_cols[i]].fillna(value = df[cat_cols[i]].mode()[0],inplace =True)\n",
    "    \n",
    "for i in range(len(num_cols)):\n",
    "    df[num_cols[i]].fillna(value = df[num_cols[i]].mean(),inplace =True)"
   ]
  },
  {
   "cell_type": "code",
   "execution_count": 35,
   "metadata": {
    "colab": {
     "base_uri": "https://localhost:8080/",
     "height": 1000
    },
    "colab_type": "code",
    "id": "2PGRB4njbNKJ",
    "outputId": "39cf78f8-ab89-4012-bfe8-bb06e4cd14fe",
    "scrolled": true
   },
   "outputs": [
    {
     "name": "stdout",
     "output_type": "stream",
     "text": [
      "<class 'pandas.core.frame.DataFrame'>\n",
      "Int64Index: 18522 entries, 0 to 18706\n",
      "Data columns (total 66 columns):\n",
      "Equipment - NominalTonnage                  18522 non-null float64\n",
      "Equipment - CompressorType                  18522 non-null object\n",
      "Equipment - CondenserPhase                  18522 non-null object\n",
      "Equipment - NumberofRefrigerantCircuits     18522 non-null float64\n",
      "Equipment - Split or Packaged               18522 non-null object\n",
      "Equipment - RefrigerantType                 18522 non-null object\n",
      "Equipment - MeteringDevice                  18522 non-null object\n",
      "Equipment - AC or Heat Pump                 18522 non-null object\n",
      "Equipment - BlowerMotorType                 18522 non-null object\n",
      "CondenserConditionPre                       18522 non-null object\n",
      "EvaporatorConditionPre                      18522 non-null object\n",
      "BlowerConditionPre                          18522 non-null object\n",
      "FilterConditionPre                          18522 non-null object\n",
      "CondenserCleaned                            18522 non-null object\n",
      "EvaporatorCleaned                           18522 non-null object\n",
      "BlowerCleaned                               18522 non-null object\n",
      "FilterCleanedOrReplaced                     18522 non-null object\n",
      "RecommendReplaceUnit                        18522 non-null object\n",
      "AirFlowMethodID                             18522 non-null float64\n",
      "TI_TESP                                     18522 non-null float64\n",
      "TO_TESP                                     18522 non-null float64\n",
      "TI_CalculatedCFM                            18522 non-null float64\n",
      "TO_CalculatedCFM                            18522 non-null float64\n",
      "TI_CalculatedCFMPerTon                      18522 non-null float64\n",
      "TO_CalculatedCFMPerTon                      18522 non-null float64\n",
      "iManifold - TO CFM                          18522 non-null float64\n",
      "TO_SuctionPressure                          18522 non-null float64\n",
      "TO_DischargePressure                        18522 non-null float64\n",
      "TO_EvaporatorTemperature                    18522 non-null float64\n",
      "TO_CondenserTemperature                     18522 non-null float64\n",
      "TO_Superheat                                18522 non-null float64\n",
      "iManifold - Target superheat                18522 non-null float64\n",
      "TO_Subcooling                               18522 non-null float64\n",
      "TO_SubcoolingTarget                         18522 non-null float64\n",
      "iManifold - Target subcooling               18522 non-null float64\n",
      "TO_VaporLineTemperature                     18522 non-null float64\n",
      "TO_LiquidLineTemperature                    18522 non-null float64\n",
      "TO_OutdoorAirDryBulbTemperature             18522 non-null float64\n",
      "TO_ReturnAirDryBulb                         18522 non-null float64\n",
      "TO_ReturnAirWetBulb                         18522 non-null float64\n",
      "TO_SupplyAirDryBulb                         18522 non-null float64\n",
      "TO_SupplyAirWetBulb                         18522 non-null float64\n",
      "TI_ReturnAirEnthalpy                        18522 non-null float64\n",
      "TO_ReturnAirEnthalpy                        18522 non-null float64\n",
      "TI_SupplyAirEnthalpy                        18522 non-null float64\n",
      "TO_SupplyAirEnthalpy                        18522 non-null float64\n",
      "TI_DeltahOrChangeInEnthalpy                 18522 non-null float64\n",
      "TO_DeltahOrChangeInEnthalpy                 18522 non-null float64\n",
      "TI_SensibleCapacity                         18522 non-null float64\n",
      "TO_SensibleCapacity                         18522 non-null float64\n",
      "TI_LatentCapacity                           18522 non-null float64\n",
      "TO_LatentCapacity                           18522 non-null float64\n",
      "TI_TotalUnadjustedCapacity                  18522 non-null float64\n",
      "TO_TotalUnadjustedCapacity                  18522 non-null float64\n",
      "TI_TotalCapacityCorrectedToARIConditions    18522 non-null float64\n",
      "TO_TotalCapacityCorrectedToARIConditions    18522 non-null float64\n",
      "TI_CapacityToNominal                        18522 non-null float64\n",
      "TO_CapacityToNominal                        18522 non-null float64\n",
      "TI_UnadjustedEER                            18522 non-null float64\n",
      "TO_UnadjustedEER                            18522 non-null float64\n",
      "TI_EERCorrectedToARIConditions              18522 non-null float64\n",
      "TO_EERCorrectedToARIConditions              18522 non-null float64\n",
      "EERpre                                      18522 non-null float64\n",
      "EERpost                                     18522 non-null float64\n",
      "DeemedEfficiencyLoss                        18522 non-null float64\n",
      "TO_iManifoldWarning                         18522 non-null int64\n",
      "dtypes: float64(49), int64(1), object(16)\n",
      "memory usage: 9.5+ MB\n"
     ]
    }
   ],
   "source": [
    "# Output of below command confirms that we have now gotten rid of missing values.\n",
    "\n",
    "df.info()"
   ]
  },
  {
   "cell_type": "code",
   "execution_count": 36,
   "metadata": {
    "colab": {},
    "colab_type": "code",
    "id": "GBwdIDs2bNKL"
   },
   "outputs": [],
   "source": [
    "# Converting all categorical columns to one hot encoder vector.\n",
    "\n",
    "x_cat = pd.get_dummies(df[cat_cols])"
   ]
  },
  {
   "cell_type": "code",
   "execution_count": 37,
   "metadata": {
    "colab": {},
    "colab_type": "code",
    "id": "JstFl6thbNKO"
   },
   "outputs": [],
   "source": [
    "# Concatenating both dataframe objects containing categorical and numerical columns along column wise.\n",
    "\n",
    "x = pd.concat([x_cat, df[num_cols]], axis=1)"
   ]
  },
  {
   "cell_type": "code",
   "execution_count": 38,
   "metadata": {
    "colab": {
     "base_uri": "https://localhost:8080/",
     "height": 35
    },
    "colab_type": "code",
    "id": "9S-jccUbbNKQ",
    "outputId": "05170e03-a0fb-46a8-9291-d54a0ea26aec"
   },
   "outputs": [
    {
     "data": {
      "text/plain": [
       "(18522, 110)"
      ]
     },
     "execution_count": 38,
     "metadata": {},
     "output_type": "execute_result"
    }
   ],
   "source": [
    "x.shape"
   ]
  },
  {
   "cell_type": "code",
   "execution_count": 39,
   "metadata": {
    "colab": {
     "base_uri": "https://localhost:8080/",
     "height": 435
    },
    "colab_type": "code",
    "id": "UbRpOAjSbNKT",
    "outputId": "5f79f032-0975-476a-9226-357a27324a59"
   },
   "outputs": [
    {
     "data": {
      "text/plain": [
       "0     7267\n",
       "6     2486\n",
       "1     2291\n",
       "11    1510\n",
       "12     867\n",
       "3      815\n",
       "13     616\n",
       "2      612\n",
       "14     593\n",
       "4      385\n",
       "9      320\n",
       "5      202\n",
       "7      198\n",
       "17     148\n",
       "15      63\n",
       "8       62\n",
       "10      39\n",
       "19      16\n",
       "16      16\n",
       "18       8\n",
       "20       7\n",
       "21       1\n",
       "Name: TO_iManifoldWarning, dtype: int64"
      ]
     },
     "execution_count": 39,
     "metadata": {},
     "output_type": "execute_result"
    }
   ],
   "source": [
    "# Counts of each class in dataset x\n",
    "\n",
    "x['TO_iManifoldWarning'].value_counts()"
   ]
  },
  {
   "cell_type": "code",
   "execution_count": 40,
   "metadata": {
    "colab": {},
    "colab_type": "code",
    "id": "95Mc8iXjbNKY"
   },
   "outputs": [],
   "source": [
    "matplotlib.rcParams['xtick.labelsize'] = 24\n",
    "matplotlib.rcParams['ytick.labelsize'] = 24\n",
    "matplotlib.rcParams['axes.labelsize'] = 24\n",
    "matplotlib.rcParams[\"axes.titlesize\"]  = 24"
   ]
  },
  {
   "cell_type": "code",
   "execution_count": 41,
   "metadata": {
    "colab": {
     "base_uri": "https://localhost:8080/",
     "height": 968
    },
    "colab_type": "code",
    "id": "4uM5lZZrbNKb",
    "outputId": "8c473516-ad57-40f0-e3d5-6232b2555200"
   },
   "outputs": [
    {
     "data": {
      "text/plain": [
       "Text(0.5, 1.0, 'Classes and its count in the whole dataset')"
      ]
     },
     "execution_count": 41,
     "metadata": {},
     "output_type": "execute_result"
    },
    {
     "data": {
      "image/png": "[encoded data removed]",
      "text/plain": [
       "<Figure size 1080x1080 with 1 Axes>"
      ]
     },
     "metadata": {
      "needs_background": "light"
     },
     "output_type": "display_data"
    }
   ],
   "source": [
    "# Count of each class in the whole dataset.\n",
    "\n",
    "plt.figure(figsize=(15,15))\n",
    "plt.barh(list(dict(dt['TO_iManifoldWarning'].value_counts()).keys()),list(dict(dt['TO_iManifoldWarning'].value_counts()).values()))\n",
    "plt.xlabel(\"Counts ----------->\")\n",
    "plt.ylabel(\"Classes ------------>\")\n",
    "plt.title(\"Classes and its count in the whole dataset\")"
   ]
  },
  {
   "cell_type": "code",
   "execution_count": 42,
   "metadata": {
    "colab": {},
    "colab_type": "code",
    "id": "gLwe0aY1bNKf"
   },
   "outputs": [],
   "source": [
    "# From above barplot we can say that distribution of classes are skewed."
   ]
  },
  {
   "cell_type": "code",
   "execution_count": 43,
   "metadata": {
    "colab": {},
    "colab_type": "code",
    "id": "vI-Jsk5pbNKh"
   },
   "outputs": [],
   "source": [
    "# Let's see how classifiers perform?"
   ]
  },
  {
   "cell_type": "code",
   "execution_count": 44,
   "metadata": {
    "colab": {},
    "colab_type": "code",
    "id": "K6GMkN-DbNKl"
   },
   "outputs": [],
   "source": [
    "from sklearn.model_selection import StratifiedShuffleSplit, train_test_split\n",
    "from sklearn.preprocessing import StandardScaler"
   ]
  },
  {
   "cell_type": "code",
   "execution_count": 45,
   "metadata": {
    "colab": {},
    "colab_type": "code",
    "id": "fjhzIYkEbNKp"
   },
   "outputs": [],
   "source": [
    "# It gets all attributes to have the same scale.\n",
    "# It standardizes features by removing the mean and scaling to unit variance.\n",
    "\n",
    "sc = StandardScaler()"
   ]
  },
  {
   "cell_type": "code",
   "execution_count": 46,
   "metadata": {
    "colab": {},
    "colab_type": "code",
    "id": "kIAZ_ApxbNKy"
   },
   "outputs": [],
   "source": [
    "def SamplingMethod(name, x_):\n",
    "    \n",
    "    \n",
    "    # Preparing X_train, X_test, y_train, y_test.\n",
    "    # Test set has 25 % of the whole dataset.\n",
    "    \n",
    "    if name == 'random_sampling':\n",
    "        \n",
    "        # Random sampling\n",
    "        \n",
    "        X_train, X_test, y_train, y_test = train_test_split(x_.drop(['TO_iManifoldWarning'],axis=1), x_['TO_iManifoldWarning'] ,test_size =0.20,random_state=42)\n",
    "        \n",
    "    elif name == 'stratified_sampling':\n",
    "        \n",
    "        # Stratified sampling\n",
    "\n",
    "        split = StratifiedShuffleSplit(n_splits=1,test_size=0.20,random_state=42)\n",
    "\n",
    "        # Removing one label which is mapped to numeric value 21, because it has only one count in the whole dataset and thereby\n",
    "        # stratified sampling does not apply on it. Because stratified sampling needs atleast 2 counts to be applied.\n",
    "\n",
    "        x_ = x_[x_['TO_iManifoldWarning']!=21].reset_index(drop=True)\n",
    "        y_ = x_['TO_iManifoldWarning']\n",
    "        x_ = x_.drop(['TO_iManifoldWarning'],axis=1)\n",
    "        for train_index, test_index in split.split(x_, y_):\n",
    "            X_train = x_.loc[train_index].reset_index(drop=True)\n",
    "            X_test = x_.loc[test_index].reset_index(drop=True)\n",
    "            y_train = y_.loc[train_index].reset_index(drop=True)\n",
    "            y_test = y_.loc[test_index].reset_index(drop=True)\n",
    "            \n",
    "    return X_train, X_test, y_train, y_test"
   ]
  },
  {
   "cell_type": "code",
   "execution_count": 47,
   "metadata": {
    "colab": {
     "base_uri": "https://localhost:8080/",
     "height": 254
    },
    "colab_type": "code",
    "id": "UOvgbaBhbNK4",
    "outputId": "d7d83d1b-3cd9-4518-9d96-2d06ca5bc3e4"
   },
   "outputs": [
    {
     "name": "stdout",
     "output_type": "stream",
     "text": [
      "Random sampling\n",
      "\n",
      "The shape of X_train is  (14817, 109)\n",
      "The shape of X_test is  (3705, 109)\n",
      "The shape of y_train is  (14817,)\n",
      "The shape of y_test is  (3705,)\n",
      "\n",
      "Stratified sampling \n",
      "\n",
      "The shape of X_train_str is  (14816, 109)\n",
      "The shape of X_test_str is  (3705, 109)\n",
      "The shape of y_train_str is  (14816,)\n",
      "The shape of y_test_str is  (3705,)\n"
     ]
    }
   ],
   "source": [
    "# Initiating random sampling\n",
    "\n",
    "X_train, X_test, y_train, y_test = SamplingMethod('random_sampling', x)\n",
    "print(\"Random sampling\\n\")\n",
    "print(\"The shape of X_train is \",X_train.shape)\n",
    "print(\"The shape of X_test is \",X_test.shape)\n",
    "print(\"The shape of y_train is \",y_train.shape)\n",
    "print(\"The shape of y_test is \",y_test.shape)\n",
    "\n",
    "print()\n",
    "# Initiating stratified sampling\n",
    "\n",
    "X_train_str, X_test_str, y_train_str, y_test_str = SamplingMethod('stratified_sampling', x)\n",
    "print(\"Stratified sampling \\n\")\n",
    "print(\"The shape of X_train_str is \",X_train_str.shape)\n",
    "print(\"The shape of X_test_str is \",X_test_str.shape)\n",
    "print(\"The shape of y_train_str is \",y_train_str.shape)\n",
    "print(\"The shape of y_test_str is \",y_test_str.shape)"
   ]
  },
  {
   "cell_type": "code",
   "execution_count": 48,
   "metadata": {
    "colab": {},
    "colab_type": "code",
    "id": "Hp6qU64rbNK7"
   },
   "outputs": [],
   "source": [
    "from sklearn.metrics import confusion_matrix, accuracy_score, classification_report "
   ]
  },
  {
   "cell_type": "code",
   "execution_count": 49,
   "metadata": {
    "colab": {},
    "colab_type": "code",
    "id": "WUfjYBpwbNLa"
   },
   "outputs": [],
   "source": [
    "def model(instance, X_train, y_train, X_test, y_test, name = \"Test\"):\n",
    "    \n",
    "    # Applying Standardization\n",
    "\n",
    "    X_tr = sc.fit_transform(X_train)\n",
    "    X_tes = sc.transform(X_test)\n",
    "    clf = instance\n",
    "    clf.fit(X_tr,y_train)\n",
    "\n",
    "    print(\"Training accuracy : \",accuracy_score(y_train, clf.predict(X_tr)))\n",
    "    y_pre = clf.predict(X_tes)\n",
    "    print(name+\" accuracy : \",accuracy_score(y_test, y_pre))\n",
    "    \n",
    "    return clf, y_test , y_pre"
   ]
  },
  {
   "cell_type": "code",
   "execution_count": 50,
   "metadata": {},
   "outputs": [],
   "source": [
    "from sklearn.linear_model import LogisticRegression, SGDClassifier"
   ]
  },
  {
   "cell_type": "code",
   "execution_count": 50,
   "metadata": {
    "colab": {
     "base_uri": "https://localhost:8080/",
     "height": 145
    },
    "colab_type": "code",
    "id": "1Lqz2v6ibNLe",
    "outputId": "3616d846-79ba-4a9f-b12e-28c439110a9b"
   },
   "outputs": [
    {
     "name": "stdout",
     "output_type": "stream",
     "text": [
      "Accuracy of the dataset on which random sampling applied.\n",
      "Training accuracy :  0.6400080988054262\n",
      "Test accuracy :  0.6348178137651822\n",
      "\n",
      "Accuracy of the dataset on which stratified sampling applied.\n",
      "Training accuracy :  0.6424811015118791\n",
      "Test accuracy :  0.6286099865047233\n"
     ]
    }
   ],
   "source": [
    "print(\"Accuracy of the dataset on which random sampling applied.\")\n",
    "lr, y_true_lr, y_pred_lr = model(LogisticRegression(), X_train, y_train, X_test, y_test)\n",
    "\n",
    "print(\"\\nAccuracy of the dataset on which stratified sampling applied.\")\n",
    "lr, y_true_str_lr, y_pred_str_lr = model(LogisticRegression(), X_train_str, y_train_str, X_test_str, y_test_str)"
   ]
  },
  {
   "cell_type": "code",
   "execution_count": 54,
   "metadata": {
    "colab": {
     "base_uri": "https://localhost:8080/",
     "height": 145
    },
    "colab_type": "code",
    "id": "HrJkAl7ZbNLh",
    "outputId": "759f0b57-eb4b-4306-aa0d-7caec3451241"
   },
   "outputs": [
    {
     "name": "stdout",
     "output_type": "stream",
     "text": [
      "Accuracy of the dataset on which random sampling applied.\n",
      "Training accuracy :  0.5918202065195384\n",
      "Test accuracy :  0.5824561403508772\n",
      "\n",
      "Accuracy of the dataset on which stratified sampling applied.\n",
      "Training accuracy :  0.6010394168466523\n",
      "Test accuracy :  0.5851551956815114\n"
     ]
    }
   ],
   "source": [
    "print(\"Accuracy of the dataset on which random sampling applied.\")\n",
    "sgd, y_true_sgd, y_pred_sgd = model(SGDClassifier(), X_train, y_train, X_test, y_test)\n",
    "\n",
    "print(\"\\nAccuracy of the dataset on which stratified sampling applied.\")\n",
    "sgd, y_true_str_sgd, y_pred_str_sgd = model(SGDClassifier(), X_train_str, y_train_str, X_test_str, y_test_str)"
   ]
  },
  {
   "cell_type": "code",
   "execution_count": 51,
   "metadata": {},
   "outputs": [],
   "source": [
    "from sklearn.svm import SVC"
   ]
  },
  {
   "cell_type": "code",
   "execution_count": 55,
   "metadata": {
    "colab": {
     "base_uri": "https://localhost:8080/",
     "height": 145
    },
    "colab_type": "code",
    "id": "EFzEpKQNbNLm",
    "outputId": "c54e8b90-1984-44dd-f5d9-3e7e6b8f23fc"
   },
   "outputs": [
    {
     "name": "stdout",
     "output_type": "stream",
     "text": [
      "Accuracy of the dataset on which random sampling applied.\n",
      "Training accuracy :  0.7014240399541067\n",
      "Test accuracy :  0.6736842105263158\n",
      "\n",
      "Accuracy of the dataset on which stratified sampling applied.\n",
      "Training accuracy :  0.7118655507559395\n",
      "Test accuracy :  0.6758434547908232\n"
     ]
    }
   ],
   "source": [
    "print(\"Accuracy of the dataset on which random sampling applied.\")\n",
    "svc, y_true_svc, y_pred_svc = model(SVC(kernel='linear', gamma = 'scale'), X_train, y_train, X_test, y_test)\n",
    "\n",
    "print(\"\\nAccuracy of the dataset on which stratified sampling applied.\")\n",
    "svc, y_true_str_svc, y_pred_str_svc = model(SVC(kernel='linear', gamma = 'scale'), X_train_str, y_train_str, X_test_str, y_test_str)"
   ]
  },
  {
   "cell_type": "code",
   "execution_count": 0,
   "metadata": {
    "colab": {},
    "colab_type": "code",
    "id": "YXXnKG9UbNLq"
   },
   "outputs": [],
   "source": [
    "# From above three results, we can say dataset on which stratified sampling is applied gives more better result than dataset on \n",
    "# which random sampling applied. So from now onwards, we will perform on dataset on which stratified sampling is applied. The \n",
    "# advantage of stratified sampling is that it splits the whole dataset into homogeneous subgroups called strata,and the right \n",
    "# number of instances is sampled from each stratum to gurantee that the test set is the representative of the whole dataset."
   ]
  },
  {
   "cell_type": "markdown",
   "metadata": {
    "colab_type": "text",
    "id": "_YNyzqu6bNLt"
   },
   "source": [
    "# Feature Importance"
   ]
  },
  {
   "cell_type": "code",
   "execution_count": 52,
   "metadata": {
    "colab": {},
    "colab_type": "code",
    "id": "AZoPR_RubNLt"
   },
   "outputs": [],
   "source": [
    "from sklearn.ensemble import ExtraTreesClassifier, RandomForestClassifier"
   ]
  },
  {
   "cell_type": "code",
   "execution_count": 53,
   "metadata": {
    "colab": {
     "base_uri": "https://localhost:8080/",
     "height": 145
    },
    "colab_type": "code",
    "id": "_Ga3SWM4bNLv",
    "outputId": "18c3ca75-b110-4c82-c545-57bfc9a0a95a"
   },
   "outputs": [
    {
     "data": {
      "text/plain": [
       "ExtraTreesClassifier(bootstrap=False, class_weight=None, criterion='gini',\n",
       "                     max_depth=None, max_features='auto', max_leaf_nodes=None,\n",
       "                     min_impurity_decrease=0.0, min_impurity_split=None,\n",
       "                     min_samples_leaf=1, min_samples_split=2,\n",
       "                     min_weight_fraction_leaf=0.0, n_estimators=10, n_jobs=None,\n",
       "                     oob_score=False, random_state=None, verbose=0,\n",
       "                     warm_start=False)"
      ]
     },
     "execution_count": 53,
     "metadata": {},
     "output_type": "execute_result"
    }
   ],
   "source": [
    "classifier = ExtraTreesClassifier()\n",
    "classifier.fit(X_train_str,y_train_str)"
   ]
  },
  {
   "cell_type": "code",
   "execution_count": 54,
   "metadata": {
    "colab": {
     "base_uri": "https://localhost:8080/",
     "height": 911
    },
    "colab_type": "code",
    "id": "Gwcp_OqlbNLx",
    "outputId": "70169a64-d80a-454e-f49c-29ce1e370044"
   },
   "outputs": [
    {
     "data": {
      "text/plain": [
       "<BarContainer object of 51 artists>"
      ]
     },
     "execution_count": 54,
     "metadata": {},
     "output_type": "execute_result"
    },
    {
     "data": {
      "image/png": "[encoded data removed]",
      "text/plain": [
       "<Figure size 1080x1080 with 1 Axes>"
      ]
     },
     "metadata": {
      "needs_background": "light"
     },
     "output_type": "display_data"
    }
   ],
   "source": [
    "# plot graph of feature importances for better visualization.\n",
    "\n",
    "matplotlib.rcParams['xtick.labelsize'] = 15\n",
    "matplotlib.rcParams['ytick.labelsize'] = 12\n",
    "matplotlib.rcParams['axes.labelsize'] = 15\n",
    "matplotlib.rcParams[\"axes.titlesize\"]  = 15\n",
    "\n",
    "feat_importances = pd.Series(classifier.feature_importances_, index=X_train_str.columns)\n",
    "fi = pd.DataFrame(feat_importances.nlargest(95))\n",
    "fi_ = pd.DataFrame(feat_importances.nlargest(51))\n",
    "plt.figure(figsize=(15,15))\n",
    "plt.ylabel(\"Features------>\")\n",
    "plt.xlabel(\"Feature importance value ------>\")\n",
    "plt.title(\"Feature importance of Attributes\")\n",
    "plt.barh(fi_.index,fi_[0],orientation = 'horizontal')"
   ]
  },
  {
   "cell_type": "code",
   "execution_count": 55,
   "metadata": {
    "colab": {},
    "colab_type": "code",
    "id": "HDVdLhcwbNL2"
   },
   "outputs": [],
   "source": [
    "# Removing those columns whose significance is zero."
   ]
  },
  {
   "cell_type": "code",
   "execution_count": 56,
   "metadata": {
    "colab": {
     "base_uri": "https://localhost:8080/",
     "height": 90
    },
    "colab_type": "code",
    "id": "9tvxyclNbNL4",
    "outputId": "a7b3975a-f558-4840-c579-048f5b6a5c19"
   },
   "outputs": [
    {
     "name": "stdout",
     "output_type": "stream",
     "text": [
      "The shape of X_train_str is  (14816, 95)\n",
      "The shape of X_test_str is  (3705, 95)\n",
      "The shape of y_train_str is  (14816,)\n",
      "The shape of y_test_str is  (3705,)\n"
     ]
    }
   ],
   "source": [
    "attr_list = list(fi.index)\n",
    "\n",
    "X_train_str, X_test_str, y_train_str, y_test_str = X_train_str[attr_list], X_test_str[attr_list], y_train_str, y_test_str\n",
    "\n",
    "print(\"The shape of X_train_str is \",X_train_str.shape)\n",
    "print(\"The shape of X_test_str is \",X_test_str.shape)\n",
    "print(\"The shape of y_train_str is \",y_train_str.shape)\n",
    "print(\"The shape of y_test_str is \",y_test_str.shape)"
   ]
  },
  {
   "cell_type": "code",
   "execution_count": 57,
   "metadata": {
    "colab": {},
    "colab_type": "code",
    "id": "5PGqIN_ObNL6"
   },
   "outputs": [],
   "source": [
    "# Splitting Training set into Training and Validation set\n",
    "\n",
    "split_1 = StratifiedShuffleSplit(n_splits=1,test_size=0.25,random_state=42)\n",
    "\n",
    "for train_index, val_index in split_1.split(X_train_str, y_train_str):\n",
    "    X_train_nw_str = X_train_str.loc[train_index].reset_index(drop=True)\n",
    "    X_val_nw_str = X_train_str.loc[val_index].reset_index(drop=True)\n",
    "    y_train_nw_str = y_train_str.loc[train_index].reset_index(drop=True)\n",
    "    y_val_nw_str = y_train_str.loc[val_index].reset_index(drop=True)"
   ]
  },
  {
   "cell_type": "code",
   "execution_count": 58,
   "metadata": {
    "colab": {
     "base_uri": "https://localhost:8080/",
     "height": 126
    },
    "colab_type": "code",
    "id": "zbdCSjhZbNL-",
    "outputId": "a26410c4-6db1-4e58-8e80-46fcf78e85c8"
   },
   "outputs": [
    {
     "name": "stdout",
     "output_type": "stream",
     "text": [
      "The shape of X_train_str is  (11112, 95)\n",
      "The shape of X_val_str is  (3704, 95)\n",
      "The shape of X_test_str is  (3705, 95)\n",
      "The shape of y_train_str is  (11112,)\n",
      "The shape of y_val_str is  (3704,)\n",
      "The shape of y_test_str is  (3705,)\n"
     ]
    }
   ],
   "source": [
    "X_train_str, X_val_str, y_train_str, y_val_str = X_train_nw_str, X_val_nw_str, y_train_nw_str, y_val_nw_str\n",
    "\n",
    "print(\"The shape of X_train_str is \",X_train_str.shape)\n",
    "print(\"The shape of X_val_str is \",X_val_str.shape)\n",
    "print(\"The shape of X_test_str is \",X_test_str.shape)\n",
    "print(\"The shape of y_train_str is \",y_train_str.shape)\n",
    "print(\"The shape of y_val_str is \",y_val_str.shape)\n",
    "print(\"The shape of y_test_str is \",y_test_str.shape)"
   ]
  },
  {
   "cell_type": "code",
   "execution_count": 62,
   "metadata": {
    "colab": {
     "base_uri": "https://localhost:8080/",
     "height": 54
    },
    "colab_type": "code",
    "id": "9BeDGUSTbNMJ",
    "outputId": "73aceda3-c57e-40dc-b333-61eddc6f9bc3"
   },
   "outputs": [
    {
     "name": "stdout",
     "output_type": "stream",
     "text": [
      "Training accuracy :  0.6443484521238301\n",
      "Validation accuracy :  0.6228401727861771\n"
     ]
    }
   ],
   "source": [
    "# Feeding the classifier on X_train_str and evaluate on X_val_str\n",
    "\n",
    "lr, y_true_str_lr, y_pred_str_lr = model(LogisticRegression(), X_train_str, y_train_str, X_val_str, y_val_str, name = \"Validation\")"
   ]
  },
  {
   "cell_type": "code",
   "execution_count": 65,
   "metadata": {
    "colab": {
     "base_uri": "https://localhost:8080/",
     "height": 781
    },
    "colab_type": "code",
    "id": "UvoJvx5CbNML",
    "outputId": "5d481695-ebe0-4ecd-a793-e0abc4ff433d"
   },
   "outputs": [
    {
     "name": "stdout",
     "output_type": "stream",
     "text": [
      "[[1245   28    2   30    6    0   93    0    0    6    0   27    0    5\n",
      "     9    0    0    2    0    0    0]\n",
      " [  21  424    0    1    1    0    9    0    1    0    0    0    0    1\n",
      "     0    0    0    0    0    0    0]\n",
      " [  40    9   25    8    2    0    8    0    0    2    0    1    0   25\n",
      "     1    0    0    1    0    0    0]\n",
      " [  73    3    0   86    0    0    1    0    0    0    0    0    0    0\n",
      "     0    0    0    0    0    0    0]\n",
      " [  40    2    0    0   23    0    8    0    0    0    0    1    0    2\n",
      "     1    0    0    0    0    0    0]\n",
      " [  25    9    2    0    0    2    0    0    0    0    0    0    0    1\n",
      "     2    0    0    0    0    0    0]\n",
      " [ 186    2    1    0    1    0  304    0    0    0    0    1    0    2\n",
      "     0    0    0    0    0    0    0]\n",
      " [  38    0    0    1    0    0    0    0    0    0    0    0    0    1\n",
      "     0    0    0    0    0    0    0]\n",
      " [  11    0    0    1    0    0    0    0    0    0    0    0    0    0\n",
      "     0    0    0    0    0    0    0]\n",
      " [  14    0    0    0    1    0   23    0    0   26    0    0    0    0\n",
      "     0    0    0    0    0    0    0]\n",
      " [   7    0    0    0    0    0    1    0    0    0    0    0    0    0\n",
      "     0    0    0    0    0    0    0]\n",
      " [ 238    2    0    0    1    0   17    0    0    0    0   42    0    2\n",
      "     0    0    0    0    0    0    0]\n",
      " [ 171    1    0    0    0    0    1    0    0    0    0    0    0    0\n",
      "     0    0    0    0    0    0    0]\n",
      " [  49    7   15    1    3    0    6    0    0    0    0    3    0   39\n",
      "     0    0    0    0    0    0    0]\n",
      " [   8    0    0    4    0    0   12    0    0    0    0    0    0    1\n",
      "    94    0    0    0    0    0    0]\n",
      " [  13    0    0    0    0    0    0    0    0    0    0    0    0    0\n",
      "     0    0    0    0    0    0    0]\n",
      " [   2    0    0    1    0    0    0    0    0    0    0    0    0    0\n",
      "     0    0    0    0    0    0    0]\n",
      " [  28    0    0    0    0    0    0    0    0    0    0    1    0    1\n",
      "     0    0    0    0    0    0    0]\n",
      " [   0    0    0    0    1    0    0    0    0    0    0    0    0    0\n",
      "     0    0    0    0    0    0    0]\n",
      " [   3    0    0    0    0    0    0    0    0    0    0    0    0    0\n",
      "     0    0    0    0    0    0    0]\n",
      " [   1    0    0    1    0    0    0    0    0    0    0    0    0    0\n",
      "     0    0    0    0    0    0    0]]\n"
     ]
    }
   ],
   "source": [
    "# Confusion matrix for LogisticRegression() classifier\n",
    "\n",
    "print(confusion_matrix(y_true_str_lr, y_pred_str_lr))"
   ]
  },
  {
   "cell_type": "code",
   "execution_count": 66,
   "metadata": {
    "colab": {
     "base_uri": "https://localhost:8080/",
     "height": 526
    },
    "colab_type": "code",
    "id": "KqsE7R_gbNMN",
    "outputId": "76edfdd3-7899-4f9a-fe80-ee0b07b34c7b"
   },
   "outputs": [
    {
     "name": "stdout",
     "output_type": "stream",
     "text": [
      "              precision    recall  f1-score   support\n",
      "\n",
      "           0       0.56      0.86      0.68      1453\n",
      "           1       0.87      0.93      0.90       458\n",
      "           2       0.56      0.20      0.30       122\n",
      "           3       0.64      0.53      0.58       163\n",
      "           4       0.59      0.30      0.40        77\n",
      "           5       1.00      0.05      0.09        41\n",
      "           6       0.63      0.61      0.62       497\n",
      "           7       0.00      0.00      0.00        40\n",
      "           8       0.00      0.00      0.00        12\n",
      "           9       0.76      0.41      0.53        64\n",
      "          10       0.00      0.00      0.00         8\n",
      "          11       0.55      0.14      0.22       302\n",
      "          12       0.00      0.00      0.00       173\n",
      "          13       0.49      0.32      0.38       123\n",
      "          14       0.88      0.79      0.83       119\n",
      "          15       0.00      0.00      0.00        13\n",
      "          16       0.00      0.00      0.00         3\n",
      "          17       0.00      0.00      0.00        30\n",
      "          18       0.00      0.00      0.00         1\n",
      "          19       0.00      0.00      0.00         3\n",
      "          20       0.00      0.00      0.00         2\n",
      "\n",
      "    accuracy                           0.62      3704\n",
      "   macro avg       0.36      0.24      0.26      3704\n",
      "weighted avg       0.59      0.62      0.57      3704\n",
      "\n"
     ]
    }
   ],
   "source": [
    "# Classification report for LogisticRegression() classifier\n",
    "\n",
    "print(classification_report(y_true_str_lr, y_pred_str_lr))"
   ]
  },
  {
   "cell_type": "code",
   "execution_count": 0,
   "metadata": {
    "colab": {},
    "colab_type": "code",
    "id": "lG28uqwObNMQ"
   },
   "outputs": [],
   "source": [
    "# We can see from confusion matrix and classification report that Logistic classifier did not perform well. For many classes\n",
    "# it could not predict and thereby we got precision and recall equal to zero."
   ]
  },
  {
   "cell_type": "code",
   "execution_count": 68,
   "metadata": {
    "colab": {
     "base_uri": "https://localhost:8080/",
     "height": 108
    },
    "colab_type": "code",
    "id": "ezKVGxlZbNMS",
    "outputId": "31228009-ec53-40c8-f6cb-cd4dd50cff7b"
   },
   "outputs": [
    {
     "data": {
      "text/plain": [
       "<bound method BaseEstimator.get_params of LogisticRegression(C=1.0, class_weight=None, dual=False, fit_intercept=True,\n",
       "                   intercept_scaling=1, l1_ratio=None, max_iter=100,\n",
       "                   multi_class='warn', n_jobs=None, penalty='l2',\n",
       "                   random_state=None, solver='warn', tol=0.0001, verbose=0,\n",
       "                   warm_start=False)>"
      ]
     },
     "execution_count": 68,
     "metadata": {
      "tags": []
     },
     "output_type": "execute_result"
    }
   ],
   "source": [
    "lr.get_params"
   ]
  },
  {
   "cell_type": "code",
   "execution_count": 59,
   "metadata": {
    "colab": {},
    "colab_type": "code",
    "id": "Rrv79GRYbNMU"
   },
   "outputs": [],
   "source": [
    "from sklearn.model_selection import GridSearchCV\n",
    "\n",
    "def gridSearch(algorithm, param_grid, X_train, X_test, y_train, y_test):\n",
    "    \n",
    "    grid_search = GridSearchCV(algorithm, param_grid, scoring= 'accuracy', n_jobs = -1)\n",
    "    X_tr = sc.fit_transform(X_train)\n",
    "    X_tes = sc.transform(X_test)\n",
    "    grid_search.fit(X_train, y_train)\n",
    "  \n",
    "    print(\"Best parameters : \",grid_search.best_params_)\n",
    "    print(\"\\nBest Estimator : \",grid_search.best_estimator_)"
   ]
  },
  {
   "cell_type": "code",
   "execution_count": 70,
   "metadata": {
    "colab": {
     "base_uri": "https://localhost:8080/",
     "height": 145
    },
    "colab_type": "code",
    "id": "jJmzxG98bNMV",
    "outputId": "4911ba94-e2cf-47d7-c27b-6bb6874a5732"
   },
   "outputs": [
    {
     "name": "stdout",
     "output_type": "stream",
     "text": [
      "Best parameters :  {'C': 10, 'penalty': 'l1'}\n",
      "\n",
      "Best Estimator :  LogisticRegression(C=10, class_weight=None, dual=False, fit_intercept=True,\n",
      "                   intercept_scaling=1, l1_ratio=None, max_iter=100,\n",
      "                   multi_class='warn', n_jobs=None, penalty='l1',\n",
      "                   random_state=None, solver='warn', tol=0.0001, verbose=0,\n",
      "                   warm_start=False)\n"
     ]
    }
   ],
   "source": [
    "params = {'penalty':['l2', 'l1'] , 'C':[1, 10, 100]}\n",
    "gridSearch(LogisticRegression(), params, X_train_str, X_val_str, y_train_str, y_val_str)"
   ]
  },
  {
   "cell_type": "code",
   "execution_count": 59,
   "metadata": {
    "colab": {
     "base_uri": "https://localhost:8080/",
     "height": 54
    },
    "colab_type": "code",
    "id": "9J803bLHG2bw",
    "outputId": "c2e4204c-6341-4d70-b2d5-57f25ebbfe73"
   },
   "outputs": [
    {
     "name": "stdout",
     "output_type": "stream",
     "text": [
      "Training accuracy :  0.6574874010079194\n",
      "Validation accuracy :  0.6314794816414687\n"
     ]
    }
   ],
   "source": [
    "# Passing best parameters searched by grid search to LogisticRegression()  classifier.\n",
    "\n",
    "lr_tuned, y_true_str_lr, y_pred_str_lr = model(LogisticRegression(C=10,penalty='l1'), X_train_str, y_train_str, X_val_str, y_val_str, name = \"Validation\")"
   ]
  },
  {
   "cell_type": "code",
   "execution_count": 60,
   "metadata": {
    "colab": {
     "base_uri": "https://localhost:8080/",
     "height": 35
    },
    "colab_type": "code",
    "id": "DPdfd0YRbNMX",
    "outputId": "bbdff697-0fad-4832-8601-d0ef8b34e0db"
   },
   "outputs": [
    {
     "name": "stdout",
     "output_type": "stream",
     "text": [
      "Test accuracy for Logistic regression tuned classifier: 0.6304993252361674\n"
     ]
    }
   ],
   "source": [
    "print(\"Test accuracy for Logistic regression tuned classifier:\", lr_tuned.score(sc.transform(X_test_str), y_test_str))"
   ]
  },
  {
   "cell_type": "code",
   "execution_count": 61,
   "metadata": {},
   "outputs": [
    {
     "name": "stdout",
     "output_type": "stream",
     "text": [
      "              precision    recall  f1-score   support\n",
      "\n",
      "           0       0.57      0.85      0.68      1453\n",
      "           1       0.88      0.91      0.89       458\n",
      "           2       0.55      0.22      0.32       122\n",
      "           3       0.66      0.57      0.61       163\n",
      "           4       0.66      0.35      0.46        77\n",
      "           5       0.50      0.05      0.09        41\n",
      "           6       0.65      0.61      0.63       497\n",
      "           7       0.00      0.00      0.00        40\n",
      "           8       0.00      0.00      0.00        12\n",
      "           9       0.85      0.62      0.72        64\n",
      "          10       0.00      0.00      0.00         8\n",
      "          11       0.53      0.15      0.24       302\n",
      "          12       0.00      0.00      0.00       173\n",
      "          13       0.50      0.35      0.41       123\n",
      "          14       0.90      0.91      0.90       119\n",
      "          15       0.00      0.00      0.00        13\n",
      "          16       0.12      0.33      0.18         3\n",
      "          17       0.25      0.03      0.06        30\n",
      "          18       0.00      0.00      0.00         1\n",
      "          19       0.00      0.00      0.00         3\n",
      "          20       0.00      0.00      0.00         2\n",
      "\n",
      "    accuracy                           0.63      3704\n",
      "   macro avg       0.36      0.28      0.29      3704\n",
      "weighted avg       0.59      0.63      0.58      3704\n",
      "\n"
     ]
    }
   ],
   "source": [
    "# Classification report for LogisticRegression() classifier\n",
    "\n",
    "print(classification_report(y_true_str_lr, y_pred_str_lr))"
   ]
  },
  {
   "cell_type": "code",
   "execution_count": 71,
   "metadata": {
    "colab": {
     "base_uri": "https://localhost:8080/",
     "height": 54
    },
    "colab_type": "code",
    "id": "hmDguGZWbNMb",
    "outputId": "ae267baf-e4c0-473c-adeb-44045f9d5f3f"
   },
   "outputs": [
    {
     "name": "stdout",
     "output_type": "stream",
     "text": [
      "Training accuracy :  0.5948524118070554\n",
      "Validation accuracy :  0.5656047516198704\n"
     ]
    }
   ],
   "source": [
    "# Feeding the classifier on X_train_str and evaluate on X_val_str\n",
    "\n",
    "sgd, y_true_str_sgd, y_pred_str_sgd = model(SGDClassifier(), X_train_str, y_train_str, X_val_str, y_val_str, name = \"Validation\")"
   ]
  },
  {
   "cell_type": "code",
   "execution_count": 72,
   "metadata": {
    "colab": {
     "base_uri": "https://localhost:8080/",
     "height": 781
    },
    "colab_type": "code",
    "id": "ijvl3XF8bNMd",
    "outputId": "3e6e6d0f-b884-4b1a-bd6a-54ee6ed95d2a"
   },
   "outputs": [
    {
     "name": "stdout",
     "output_type": "stream",
     "text": [
      "[[1014   27    2   16    7    8  198    6    4    6    1   95   38   13\n",
      "     9    1    1    7    0    0    0]\n",
      " [  38  403    2    0    1    0    6    0    1    0    1    3    1    0\n",
      "     0    2    0    0    0    0    0]\n",
      " [  28   10   36    6    2    1    8    0    0    1    0    9    3   17\n",
      "     1    0    0    0    0    0    0]\n",
      " [  81    2    0   70    0    1    5    1    0    0    0    0    1    2\n",
      "     0    0    0    0    0    0    0]\n",
      " [  21    1    0    0   26    0    8    2    0    0    0   12    5    0\n",
      "     1    0    0    1    0    0    0]\n",
      " [  21    9    2    0    0    3    1    0    0    0    0    2    0    1\n",
      "     2    0    0    0    0    0    0]\n",
      " [ 116    2    2    0    3    4  333    0    0    0    0   23    6    6\n",
      "     2    0    0    0    0    0    0]\n",
      " [  23    0    1    0    0    0    0    1    0    0    0    2   10    3\n",
      "     0    0    0    0    0    0    0]\n",
      " [  10    0    0    1    0    0    0    0    1    0    0    0    0    0\n",
      "     0    0    0    0    0    0    0]\n",
      " [  12    0    1    0    1    0   19    0    0   29    0    1    0    1\n",
      "     0    0    0    0    0    0    0]\n",
      " [   6    0    0    0    0    0    1    0    0    0    0    0    1    0\n",
      "     0    0    0    0    0    0    0]\n",
      " [ 192    2    1    0    2    0   45    0    0    0    0   47    5    6\n",
      "     1    0    0    1    0    0    0]\n",
      " [ 153    1    0    1    0    0    4    0    0    0    0   10    4    0\n",
      "     0    0    0    0    0    0    0]\n",
      " [  20    6   38    2    1    1    5    0    0    1    0   10    4   34\n",
      "     0    0    0    1    0    0    0]\n",
      " [  10    0    0    1    0    0   13    0    0    0    0    1    2    0\n",
      "    92    0    0    0    0    0    0]\n",
      " [  13    0    0    0    0    0    0    0    0    0    0    0    0    0\n",
      "     0    0    0    0    0    0    0]\n",
      " [   1    0    0    2    0    0    0    0    0    0    0    0    0    0\n",
      "     0    0    0    0    0    0    0]\n",
      " [  16    0    0    0    2    0    0    0    0    0    0    8    1    1\n",
      "     0    0    0    2    0    0    0]\n",
      " [   0    0    0    0    0    0    0    0    0    0    0    0    0    0\n",
      "     0    0    0    1    0    0    0]\n",
      " [   2    0    0    0    0    0    0    0    0    0    0    0    1    0\n",
      "     0    0    0    0    0    0    0]\n",
      " [   1    0    0    1    0    0    0    0    0    0    0    0    0    0\n",
      "     0    0    0    0    0    0    0]]\n"
     ]
    }
   ],
   "source": [
    "# Confusion matrix for SGDClassifier() classifier\n",
    "\n",
    "print(confusion_matrix(y_true_str_sgd, y_pred_str_sgd))"
   ]
  },
  {
   "cell_type": "code",
   "execution_count": 73,
   "metadata": {
    "colab": {
     "base_uri": "https://localhost:8080/",
     "height": 526
    },
    "colab_type": "code",
    "id": "VQROm_2wbNMf",
    "outputId": "c198a4bf-ab56-4344-b0ae-99795b49433a"
   },
   "outputs": [
    {
     "name": "stdout",
     "output_type": "stream",
     "text": [
      "              precision    recall  f1-score   support\n",
      "\n",
      "           0       0.57      0.70      0.63      1453\n",
      "           1       0.87      0.88      0.88       458\n",
      "           2       0.42      0.30      0.35       122\n",
      "           3       0.70      0.43      0.53       163\n",
      "           4       0.58      0.34      0.43        77\n",
      "           5       0.17      0.07      0.10        41\n",
      "           6       0.52      0.67      0.58       497\n",
      "           7       0.10      0.03      0.04        40\n",
      "           8       0.17      0.08      0.11        12\n",
      "           9       0.78      0.45      0.57        64\n",
      "          10       0.00      0.00      0.00         8\n",
      "          11       0.21      0.16      0.18       302\n",
      "          12       0.05      0.02      0.03       173\n",
      "          13       0.40      0.28      0.33       123\n",
      "          14       0.85      0.77      0.81       119\n",
      "          15       0.00      0.00      0.00        13\n",
      "          16       0.00      0.00      0.00         3\n",
      "          17       0.15      0.07      0.09        30\n",
      "          18       0.00      0.00      0.00         1\n",
      "          19       0.00      0.00      0.00         3\n",
      "          20       0.00      0.00      0.00         2\n",
      "\n",
      "    accuracy                           0.57      3704\n",
      "   macro avg       0.31      0.25      0.27      3704\n",
      "weighted avg       0.54      0.57      0.54      3704\n",
      "\n"
     ]
    }
   ],
   "source": [
    "# Classification report for SGDClassifier() classifier\n",
    "\n",
    "print(classification_report(y_true_str_sgd, y_pred_str_sgd))"
   ]
  },
  {
   "cell_type": "code",
   "execution_count": 74,
   "metadata": {
    "colab": {
     "base_uri": "https://localhost:8080/",
     "height": 219
    },
    "colab_type": "code",
    "id": "U_NqXLW9bNMk",
    "outputId": "c0c0b3e1-6cb1-4790-a9ba-13ce55e4a7e5"
   },
   "outputs": [
    {
     "name": "stderr",
     "output_type": "stream",
     "text": [
      "/usr/local/lib/python3.6/dist-packages/sklearn/model_selection/_search.py:814: DeprecationWarning: The default of the `iid` parameter will change from True to False in version 0.22 and will be removed in 0.24. This will change numeric results when test-set sizes are unequal.\n",
      "  DeprecationWarning)\n"
     ]
    },
    {
     "name": "stdout",
     "output_type": "stream",
     "text": [
      "Best parameters :  {'alpha': 0.001, 'penalty': 'l2'}\n",
      "\n",
      "Best Estimator :  SGDClassifier(alpha=0.001, average=False, class_weight=None,\n",
      "              early_stopping=False, epsilon=0.1, eta0=0.0, fit_intercept=True,\n",
      "              l1_ratio=0.15, learning_rate='optimal', loss='hinge',\n",
      "              max_iter=1000, n_iter_no_change=5, n_jobs=None, penalty='l2',\n",
      "              power_t=0.5, random_state=None, shuffle=True, tol=0.001,\n",
      "              validation_fraction=0.1, verbose=0, warm_start=False)\n"
     ]
    }
   ],
   "source": [
    "params = {'penalty':['l2', 'l1'] , 'alpha':[0.0001, 0.001]}\n",
    "gridSearch(SGDClassifier(), params, X_train_str, X_val_str, y_train_str, y_val_str)"
   ]
  },
  {
   "cell_type": "code",
   "execution_count": 66,
   "metadata": {
    "colab": {
     "base_uri": "https://localhost:8080/",
     "height": 54
    },
    "colab_type": "code",
    "id": "TGoTU8Q1K8En",
    "outputId": "9de08151-76ec-4798-fd19-1b55c833781b"
   },
   "outputs": [
    {
     "name": "stdout",
     "output_type": "stream",
     "text": [
      "Training accuracy :  0.6028617710583153\n",
      "Validation accuracy :  0.5842332613390929\n"
     ]
    }
   ],
   "source": [
    "# Passing best parameters searched by grid search to SGDClassifier()  classifier.\n",
    "\n",
    "sgd_tuned, y_true_str_sgd, y_pred_str_sgd = model(SGDClassifier(alpha=0.001), X_train_str, y_train_str, X_val_str, y_val_str, name = \"Validation\")"
   ]
  },
  {
   "cell_type": "code",
   "execution_count": 67,
   "metadata": {
    "colab": {
     "base_uri": "https://localhost:8080/",
     "height": 35
    },
    "colab_type": "code",
    "id": "tjKZFQxhK8O4",
    "outputId": "2b10984d-f0fa-41a4-90d4-e98701b626e8"
   },
   "outputs": [
    {
     "name": "stdout",
     "output_type": "stream",
     "text": [
      "Test accuracy : 0.5802968960863698\n"
     ]
    }
   ],
   "source": [
    "print(\"Test accuracy for SGD tuned classifier :\", sgd_tuned.score(sc.transform(X_test_str), y_test_str))"
   ]
  },
  {
   "cell_type": "code",
   "execution_count": 75,
   "metadata": {
    "colab": {
     "base_uri": "https://localhost:8080/",
     "height": 54
    },
    "colab_type": "code",
    "id": "k0vndDCNbNMm",
    "outputId": "8e295504-0f92-44a3-c45f-0618059c51a1"
   },
   "outputs": [
    {
     "name": "stdout",
     "output_type": "stream",
     "text": [
      "Training accuracy :  0.705093592512599\n",
      "Validation accuracy :  0.6115010799136069\n"
     ]
    }
   ],
   "source": [
    "# Feeding the classifier on X_train_str and evaluate on X_val_str\n",
    "# 'RBF' kernel \n",
    "\n",
    "svc, y_true_str_svc, y_pred_str_svc = model(SVC(gamma = 'scale'), X_train_str, y_train_str, X_val_str, y_val_str, name = \"Validation\")"
   ]
  },
  {
   "cell_type": "code",
   "execution_count": 76,
   "metadata": {
    "colab": {
     "base_uri": "https://localhost:8080/",
     "height": 781
    },
    "colab_type": "code",
    "id": "9ulWSwCy5xU9",
    "outputId": "fba1c214-3fea-4c45-efd5-6c4e9c4ce7cf"
   },
   "outputs": [
    {
     "name": "stdout",
     "output_type": "stream",
     "text": [
      "[[1278   17    2   29    0    0   91    0    0    0    0   20    0    5\n",
      "    11    0    0    0    0    0    0]\n",
      " [  43  403    1    0    0    0   11    0    0    0    0    0    0    0\n",
      "     0    0    0    0    0    0    0]\n",
      " [  54    8   24    5    0    0   11    0    0    0    0    0    0   20\n",
      "     0    0    0    0    0    0    0]\n",
      " [  82    0    0   80    0    0    1    0    0    0    0    0    0    0\n",
      "     0    0    0    0    0    0    0]\n",
      " [  59    0    0    1    6    0    5    0    0    0    0    3    0    1\n",
      "     2    0    0    0    0    0    0]\n",
      " [  28    9    1    0    0    0    0    0    0    0    0    0    0    1\n",
      "     2    0    0    0    0    0    0]\n",
      " [ 164    3    4    1    0    0  314    0    0    0    0    8    0    0\n",
      "     3    0    0    0    0    0    0]\n",
      " [  39    0    1    0    0    0    0    0    0    0    0    0    0    0\n",
      "     0    0    0    0    0    0    0]\n",
      " [   7    0    0    5    0    0    0    0    0    0    0    0    0    0\n",
      "     0    0    0    0    0    0    0]\n",
      " [  33    0    0    0    0    0   17    0    0   13    0    1    0    0\n",
      "     0    0    0    0    0    0    0]\n",
      " [   6    0    0    0    0    0    1    0    0    0    0    1    0    0\n",
      "     0    0    0    0    0    0    0]\n",
      " [ 224    3    1    0    0    0   23    0    0    0    0   47    0    0\n",
      "     4    0    0    0    0    0    0]\n",
      " [ 170    0    0    1    0    0    1    0    0    0    0    1    0    0\n",
      "     0    0    0    0    0    0    0]\n",
      " [  68    6   10    2    0    0    3    0    0    0    0    4    0   30\n",
      "     0    0    0    0    0    0    0]\n",
      " [  29    0    0    2    0    0   17    0    0    0    0    0    0    1\n",
      "    70    0    0    0    0    0    0]\n",
      " [  12    1    0    0    0    0    0    0    0    0    0    0    0    0\n",
      "     0    0    0    0    0    0    0]\n",
      " [   3    0    0    0    0    0    0    0    0    0    0    0    0    0\n",
      "     0    0    0    0    0    0    0]\n",
      " [  29    0    1    0    0    0    0    0    0    0    0    0    0    0\n",
      "     0    0    0    0    0    0    0]\n",
      " [   1    0    0    0    0    0    0    0    0    0    0    0    0    0\n",
      "     0    0    0    0    0    0    0]\n",
      " [   2    1    0    0    0    0    0    0    0    0    0    0    0    0\n",
      "     0    0    0    0    0    0    0]\n",
      " [   1    0    0    1    0    0    0    0    0    0    0    0    0    0\n",
      "     0    0    0    0    0    0    0]]\n"
     ]
    }
   ],
   "source": [
    "# Confusion matrix for SVC() classifier for rbf kernel\n",
    "\n",
    "print(confusion_matrix(y_true_str_svc, y_pred_str_svc))"
   ]
  },
  {
   "cell_type": "code",
   "execution_count": 77,
   "metadata": {
    "colab": {
     "base_uri": "https://localhost:8080/",
     "height": 526
    },
    "colab_type": "code",
    "id": "YXDA6Lng5xk8",
    "outputId": "fbcddcaf-f575-4112-d78d-b00a9c700b72"
   },
   "outputs": [
    {
     "name": "stdout",
     "output_type": "stream",
     "text": [
      "              precision    recall  f1-score   support\n",
      "\n",
      "           0       0.55      0.88      0.68      1453\n",
      "           1       0.89      0.88      0.89       458\n",
      "           2       0.53      0.20      0.29       122\n",
      "           3       0.63      0.49      0.55       163\n",
      "           4       1.00      0.08      0.14        77\n",
      "           5       0.00      0.00      0.00        41\n",
      "           6       0.63      0.63      0.63       497\n",
      "           7       0.00      0.00      0.00        40\n",
      "           8       0.00      0.00      0.00        12\n",
      "           9       1.00      0.20      0.34        64\n",
      "          10       0.00      0.00      0.00         8\n",
      "          11       0.55      0.16      0.24       302\n",
      "          12       0.00      0.00      0.00       173\n",
      "          13       0.52      0.24      0.33       123\n",
      "          14       0.76      0.59      0.66       119\n",
      "          15       0.00      0.00      0.00        13\n",
      "          16       0.00      0.00      0.00         3\n",
      "          17       0.00      0.00      0.00        30\n",
      "          18       0.00      0.00      0.00         1\n",
      "          19       0.00      0.00      0.00         3\n",
      "          20       0.00      0.00      0.00         2\n",
      "\n",
      "    accuracy                           0.61      3704\n",
      "   macro avg       0.34      0.21      0.23      3704\n",
      "weighted avg       0.58      0.61      0.55      3704\n",
      "\n"
     ]
    }
   ],
   "source": [
    "# Classification report for SVC() classifier for rbf kernel\n",
    "\n",
    "print(classification_report(y_true_str_svc, y_pred_str_svc))"
   ]
  },
  {
   "cell_type": "code",
   "execution_count": 62,
   "metadata": {},
   "outputs": [
    {
     "name": "stdout",
     "output_type": "stream",
     "text": [
      "Training accuracy :  0.7230921526277898\n",
      "Validation accuracy :  0.6690064794816415\n"
     ]
    }
   ],
   "source": [
    "# Feeding the classifier on X_train_str and evaluate on X_val_str\n",
    "# 'linear' kernel \n",
    "\n",
    "svc_l, y_true_str_svc, y_pred_str_svc = model(SVC(kernel='linear',gamma = 'scale'), X_train_str, y_train_str, X_val_str, y_val_str, name = \"Validation\")"
   ]
  },
  {
   "cell_type": "code",
   "execution_count": 63,
   "metadata": {},
   "outputs": [
    {
     "name": "stdout",
     "output_type": "stream",
     "text": [
      "[[1275    6    3   31    8    0   83    0    2    4    0   27    0    5\n",
      "     5    1    3    0    0    0    0]\n",
      " [  13  437    0    0    1    0    3    0    1    0    0    0    0    1\n",
      "     1    1    0    0    0    0    0]\n",
      " [  24    7   51    3    1    0    4    0    0    1    0    1    0   29\n",
      "     0    0    0    1    0    0    0]\n",
      " [  58    2    0   99    0    0    1    0    1    0    0    0    0    0\n",
      "     1    0    1    0    0    0    0]\n",
      " [  34    1    0    0   37    0    3    0    0    0    0    1    0    1\n",
      "     0    0    0    0    0    0    0]\n",
      " [  26    9    2    0    0    1    0    0    0    0    0    0    0    1\n",
      "     2    0    0    0    0    0    0]\n",
      " [ 158    0    0    0    2    0  325    0    0    0    0    6    0    3\n",
      "     3    0    0    0    0    0    0]\n",
      " [  40    0    0    0    0    0    0    0    0    0    0    0    0    0\n",
      "     0    0    0    0    0    0    0]\n",
      " [   7    0    0    3    0    0    0    0    1    0    0    0    0    0\n",
      "     0    0    0    0    0    0    1]\n",
      " [  16    0    0    0    2    0    5    0    0   41    0    0    0    0\n",
      "     0    0    0    0    0    0    0]\n",
      " [   8    0    0    0    0    0    0    0    0    0    0    0    0    0\n",
      "     0    0    0    0    0    0    0]\n",
      " [ 223    2    0    0    0    1    6    0    0    0    0   66    0    3\n",
      "     1    0    0    0    0    0    0]\n",
      " [ 168    0    1    1    0    0    1    0    0    0    0    2    0    0\n",
      "     0    0    0    0    0    0    0]\n",
      " [  24    4   38    0    3    0    1    0    0    0    0    3    1   49\n",
      "     0    0    0    0    0    0    0]\n",
      " [  13    0    0    3    1    0    8    0    0    0    0    0    0    0\n",
      "    94    0    0    0    0    0    0]\n",
      " [  11    1    0    0    0    0    0    0    0    0    0    0    0    0\n",
      "     0    1    0    0    0    0    0]\n",
      " [   1    0    0    0    0    0    0    0    0    0    0    0    0    0\n",
      "     1    0    1    0    0    0    0]\n",
      " [  28    0    0    0    1    0    0    0    0    0    0    0    0    1\n",
      "     0    0    0    0    0    0    0]\n",
      " [   0    0    0    0    1    0    0    0    0    0    0    0    0    0\n",
      "     0    0    0    0    0    0    0]\n",
      " [   3    0    0    0    0    0    0    0    0    0    0    0    0    0\n",
      "     0    0    0    0    0    0    0]\n",
      " [   1    0    0    1    0    0    0    0    0    0    0    0    0    0\n",
      "     0    0    0    0    0    0    0]]\n"
     ]
    }
   ],
   "source": [
    "# Confusion matrix for SVC() classifier for linear kernel\n",
    "\n",
    "print(confusion_matrix(y_true_str_svc, y_pred_str_svc))"
   ]
  },
  {
   "cell_type": "code",
   "execution_count": 64,
   "metadata": {},
   "outputs": [
    {
     "name": "stdout",
     "output_type": "stream",
     "text": [
      "              precision    recall  f1-score   support\n",
      "\n",
      "           0       0.60      0.88      0.71      1453\n",
      "           1       0.93      0.95      0.94       458\n",
      "           2       0.54      0.42      0.47       122\n",
      "           3       0.70      0.61      0.65       163\n",
      "           4       0.65      0.48      0.55        77\n",
      "           5       0.50      0.02      0.05        41\n",
      "           6       0.74      0.65      0.69       497\n",
      "           7       0.00      0.00      0.00        40\n",
      "           8       0.20      0.08      0.12        12\n",
      "           9       0.89      0.64      0.75        64\n",
      "          10       0.00      0.00      0.00         8\n",
      "          11       0.62      0.22      0.32       302\n",
      "          12       0.00      0.00      0.00       173\n",
      "          13       0.53      0.40      0.45       123\n",
      "          14       0.87      0.79      0.83       119\n",
      "          15       0.33      0.08      0.12        13\n",
      "          16       0.20      0.33      0.25         3\n",
      "          17       0.00      0.00      0.00        30\n",
      "          18       0.00      0.00      0.00         1\n",
      "          19       0.00      0.00      0.00         3\n",
      "          20       0.00      0.00      0.00         2\n",
      "\n",
      "    accuracy                           0.67      3704\n",
      "   macro avg       0.40      0.31      0.33      3704\n",
      "weighted avg       0.63      0.67      0.63      3704\n",
      "\n"
     ]
    }
   ],
   "source": [
    "# Classification report for SVC() classifier for linear kernel\n",
    "\n",
    "print(classification_report(y_true_str_svc, y_pred_str_svc))"
   ]
  },
  {
   "cell_type": "code",
   "execution_count": null,
   "metadata": {
    "colab": {},
    "colab_type": "code",
    "id": "23sHzBx85xwD"
   },
   "outputs": [],
   "source": [
    "params = {'kernel':['linear','rbf'] , 'C':[1,10]}\n",
    "gridSearch(SVC(gamma = 'scale'), params, X_train_str, X_val_str, y_train_str, y_val_str)"
   ]
  },
  {
   "cell_type": "code",
   "execution_count": 0,
   "metadata": {
    "colab": {},
    "colab_type": "code",
    "id": "uZdGH6KyMHLP"
   },
   "outputs": [],
   "source": [
    "# Passing best parameters searched by grid search to SVC() classifier.\n",
    "\n",
    "svc_tuned, y_true_str_svc, y_pred_str_svc = model(SVC(gamma = 'scale'), X_train_str, y_train_str, X_val_str, y_val_str, name = \"Validation\")"
   ]
  },
  {
   "cell_type": "code",
   "execution_count": 0,
   "metadata": {
    "colab": {},
    "colab_type": "code",
    "id": "MwGbEQMmMHa7"
   },
   "outputs": [],
   "source": [
    "print(\"Test accuracy for SVC tuned classifier :\", svc_tuned.score(sc.transform(X_test_str), y_test_str))"
   ]
  },
  {
   "cell_type": "code",
   "execution_count": 70,
   "metadata": {
    "colab": {},
    "colab_type": "code",
    "id": "5QQdm-pu5x9V"
   },
   "outputs": [
    {
     "name": "stdout",
     "output_type": "stream",
     "text": [
      "Training accuracy :  0.9887508999280058\n",
      "Validation accuracy :  0.6468682505399568\n"
     ]
    }
   ],
   "source": [
    "# Feeding the classifier on X_train_str and evaluate on X_val_str\n",
    "\n",
    "rf, y_true_str_rf, y_pred_str_rf = model(RandomForestClassifier(), X_train_str, y_train_str, X_val_str, y_val_str, name = \"Validation\")"
   ]
  },
  {
   "cell_type": "code",
   "execution_count": 71,
   "metadata": {
    "colab": {},
    "colab_type": "code",
    "id": "L8013JxP5yKI"
   },
   "outputs": [
    {
     "name": "stdout",
     "output_type": "stream",
     "text": [
      "[[1261    9    7   25    5    0   80    0    0    3    1   30   13   14\n",
      "     3    0    0    2    0    0    0]\n",
      " [   5  450    1    0    0    0    1    0    0    0    0    0    0    1\n",
      "     0    0    0    0    0    0    0]\n",
      " [  57   11   26    4    1    0   12    0    0    0    0    1    1    8\n",
      "     1    0    0    0    0    0    0]\n",
      " [  69    0    0   83    0    0    9    0    0    0    0    1    1    0\n",
      "     0    0    0    0    0    0    0]\n",
      " [  50    0    0    1   12    0    3    0    0    1    0    6    1    1\n",
      "     2    0    0    0    0    0    0]\n",
      " [  23    9    1    0    0    1    0    0    0    0    0    2    0    3\n",
      "     2    0    0    0    0    0    0]\n",
      " [ 160    2    1    1    1    0  309    0    0    3    0   17    2    1\n",
      "     0    0    0    0    0    0    0]\n",
      " [  35    0    0    0    0    0    0    3    0    1    0    1    0    0\n",
      "     0    0    0    0    0    0    0]\n",
      " [   7    0    0    4    0    0    0    0    1    0    0    0    0    0\n",
      "     0    0    0    0    0    0    0]\n",
      " [  28    0    0    0    1    0   20    0    0   12    0    3    0    0\n",
      "     0    0    0    0    0    0    0]\n",
      " [   3    0    0    0    2    0    2    0    0    0    0    0    1    0\n",
      "     0    0    0    0    0    0    0]\n",
      " [ 158    2    1    3    2    0   37    0    0    0    0   80   15    3\n",
      "     0    0    0    1    0    0    0]\n",
      " [ 129    0    0    3    0    0    5    0    0    0    0   19   16    1\n",
      "     0    0    0    0    0    0    0]\n",
      " [  51    5   19    1    1    0    5    1    0    0    0    6    2   32\n",
      "     0    0    0    0    0    0    0]\n",
      " [   3    1    1    0    0    0    3    0    0    0    0    1    0    0\n",
      "   110    0    0    0    0    0    0]\n",
      " [  12    0    0    0    0    0    0    0    0    0    0    0    0    1\n",
      "     0    0    0    0    0    0    0]\n",
      " [   3    0    0    0    0    0    0    0    0    0    0    0    0    0\n",
      "     0    0    0    0    0    0    0]\n",
      " [  17    0    1    0    3    0    3    0    0    0    0    6    0    0\n",
      "     0    0    0    0    0    0    0]\n",
      " [   1    0    0    0    0    0    0    0    0    0    0    0    0    0\n",
      "     0    0    0    0    0    0    0]\n",
      " [   3    0    0    0    0    0    0    0    0    0    0    0    0    0\n",
      "     0    0    0    0    0    0    0]\n",
      " [   1    0    0    1    0    0    0    0    0    0    0    0    0    0\n",
      "     0    0    0    0    0    0    0]]\n"
     ]
    }
   ],
   "source": [
    "# Confusion matrix for RandomForestClassifier() classifier\n",
    "\n",
    "print(confusion_matrix(y_true_str_rf, y_pred_str_rf))"
   ]
  },
  {
   "cell_type": "code",
   "execution_count": 72,
   "metadata": {
    "colab": {},
    "colab_type": "code",
    "id": "dXwUmhPfA8_B"
   },
   "outputs": [
    {
     "name": "stdout",
     "output_type": "stream",
     "text": [
      "              precision    recall  f1-score   support\n",
      "\n",
      "           0       0.61      0.87      0.71      1453\n",
      "           1       0.92      0.98      0.95       458\n",
      "           2       0.45      0.21      0.29       122\n",
      "           3       0.66      0.51      0.57       163\n",
      "           4       0.43      0.16      0.23        77\n",
      "           5       1.00      0.02      0.05        41\n",
      "           6       0.63      0.62      0.63       497\n",
      "           7       0.75      0.07      0.14        40\n",
      "           8       1.00      0.08      0.15        12\n",
      "           9       0.60      0.19      0.29        64\n",
      "          10       0.00      0.00      0.00         8\n",
      "          11       0.46      0.26      0.34       302\n",
      "          12       0.31      0.09      0.14       173\n",
      "          13       0.49      0.26      0.34       123\n",
      "          14       0.93      0.92      0.93       119\n",
      "          15       0.00      0.00      0.00        13\n",
      "          16       0.00      0.00      0.00         3\n",
      "          17       0.00      0.00      0.00        30\n",
      "          18       0.00      0.00      0.00         1\n",
      "          19       0.00      0.00      0.00         3\n",
      "          20       0.00      0.00      0.00         2\n",
      "\n",
      "    accuracy                           0.65      3704\n",
      "   macro avg       0.44      0.25      0.27      3704\n",
      "weighted avg       0.62      0.65      0.60      3704\n",
      "\n"
     ]
    }
   ],
   "source": [
    "# Classification report for RandomForestClassifier() classifier\n",
    "\n",
    "print(classification_report(y_true_str_rf, y_pred_str_rf))"
   ]
  },
  {
   "cell_type": "code",
   "execution_count": 66,
   "metadata": {
    "colab": {},
    "colab_type": "code",
    "id": "p9l3HLS9A9SS"
   },
   "outputs": [
    {
     "name": "stdout",
     "output_type": "stream",
     "text": [
      "Best parameters :  {'criterion': 'entropy', 'max_depth': 12, 'max_features': 'auto', 'min_samples_leaf': 1, 'n_estimators': 500}\n",
      "\n",
      "Best Estimator :  RandomForestClassifier(bootstrap=True, class_weight=None, criterion='entropy',\n",
      "                       max_depth=12, max_features='auto', max_leaf_nodes=None,\n",
      "                       min_impurity_decrease=0.0, min_impurity_split=None,\n",
      "                       min_samples_leaf=1, min_samples_split=2,\n",
      "                       min_weight_fraction_leaf=0.0, n_estimators=500,\n",
      "                       n_jobs=None, oob_score=False, random_state=None,\n",
      "                       verbose=0, warm_start=True)\n"
     ]
    }
   ],
   "source": [
    "params = {'n_estimators': [50,100,200, 500],'min_samples_leaf':[1,2,3,4],'max_features': ['auto', 'sqrt', 'log2'],'max_depth' : [4,6,8,10,12],'criterion' :['gini', 'entropy']}\n",
    "gridSearch(RandomForestClassifier(warm_start=True), params, X_train_str, X_val_str, y_train_str, y_val_str)"
   ]
  },
  {
   "cell_type": "code",
   "execution_count": 82,
   "metadata": {},
   "outputs": [
    {
     "name": "stdout",
     "output_type": "stream",
     "text": [
      "Training accuracy :  0.8917386609071274\n",
      "Validation accuracy :  0.6722462203023758\n"
     ]
    }
   ],
   "source": [
    "# Passing best parameters searched by grid search to RandomForest() classifier.\n",
    "\n",
    "rf_tuned, y_true_str_rf, y_pred_str_rf = model(RandomForestClassifier(warm_start=True,criterion= 'entropy', max_depth= 12, max_features ='auto', n_estimators= 50,min_samples_leaf= 1), X_train_str, y_train_str, X_val_str, y_val_str, name = \"Validation\")"
   ]
  },
  {
   "cell_type": "code",
   "execution_count": 84,
   "metadata": {},
   "outputs": [
    {
     "name": "stdout",
     "output_type": "stream",
     "text": [
      "Best parameters :  {'criterion': 'gini', 'max_depth': 12, 'max_features': 'sqrt', 'min_samples_leaf': 2, 'n_estimators': 50}\n",
      "\n",
      "Best Estimator :  ExtraTreesClassifier(bootstrap=False, class_weight=None, criterion='gini',\n",
      "                     max_depth=12, max_features='sqrt', max_leaf_nodes=None,\n",
      "                     min_impurity_decrease=0.0, min_impurity_split=None,\n",
      "                     min_samples_leaf=2, min_samples_split=2,\n",
      "                     min_weight_fraction_leaf=0.0, n_estimators=50, n_jobs=None,\n",
      "                     oob_score=False, random_state=None, verbose=0,\n",
      "                     warm_start=True)\n"
     ]
    }
   ],
   "source": [
    "params = {'n_estimators': [50,100,200, 500],'min_samples_leaf':[1,2,3,4],'max_features': ['auto', 'sqrt', 'log2'],'max_depth' : [4,6,8,10,12],'criterion' :['gini', 'entropy']}\n",
    "gridSearch(ExtraTreesClassifier(warm_start=True), params, X_train_str, X_val_str, y_train_str, y_val_str)"
   ]
  },
  {
   "cell_type": "code",
   "execution_count": 85,
   "metadata": {
    "colab": {},
    "colab_type": "code",
    "id": "3eIlDJzPA9NA"
   },
   "outputs": [
    {
     "name": "stdout",
     "output_type": "stream",
     "text": [
      "Training accuracy :  0.6565874730021598\n",
      "Validation accuracy :  0.5383369330453563\n"
     ]
    }
   ],
   "source": [
    "# Feeding the classifier on X_train_str and evaluate on X_val_str\n",
    "\n",
    "extrf, y_true_str_extrf, y_pred_str_extrf = model(ExtraTreesClassifier(warm_start=True,criterion= 'gini', max_depth= 12, max_features ='sqrt', n_estimators= 50,min_samples_leaf= 2), X_train_str, y_train_str, X_val_str, y_val_str, name = \"Validation\")"
   ]
  },
  {
   "cell_type": "code",
   "execution_count": 86,
   "metadata": {
    "colab": {},
    "colab_type": "code",
    "id": "w1ZTgGhdA9F8"
   },
   "outputs": [
    {
     "name": "stdout",
     "output_type": "stream",
     "text": [
      "[[1373   14    0   17    0    0   39    0    0    0    0    3    0    1\n",
      "     6    0    0    0    0    0    0]\n",
      " [ 123  328    0    0    0    0    7    0    0    0    0    0    0    0\n",
      "     0    0    0    0    0    0    0]\n",
      " [  87    7   14    4    0    0    9    0    0    0    0    0    0    1\n",
      "     0    0    0    0    0    0    0]\n",
      " [  97    0    0   65    0    0    1    0    0    0    0    0    0    0\n",
      "     0    0    0    0    0    0    0]\n",
      " [  64    4    0    1    6    0    2    0    0    0    0    0    0    0\n",
      "     0    0    0    0    0    0    0]\n",
      " [  31    8    0    0    0    0    0    0    0    0    0    0    0    0\n",
      "     2    0    0    0    0    0    0]\n",
      " [ 348    5    0    5    0    0  135    0    0    0    0    0    0    0\n",
      "     4    0    0    0    0    0    0]\n",
      " [  40    0    0    0    0    0    0    0    0    0    0    0    0    0\n",
      "     0    0    0    0    0    0    0]\n",
      " [   9    1    0    2    0    0    0    0    0    0    0    0    0    0\n",
      "     0    0    0    0    0    0    0]\n",
      " [  53    1    0    0    0    0    9    0    0    0    0    1    0    0\n",
      "     0    0    0    0    0    0    0]\n",
      " [   7    0    0    0    0    0    1    0    0    0    0    0    0    0\n",
      "     0    0    0    0    0    0    0]\n",
      " [ 259    1    0    1    0    0   20    0    0    0    0   16    0    0\n",
      "     5    0    0    0    0    0    0]\n",
      " [ 162    0    0    4    0    0    6    0    0    0    0    1    0    0\n",
      "     0    0    0    0    0    0    0]\n",
      " [ 100    5    1    1    0    0    7    0    0    0    0    0    0    9\n",
      "     0    0    0    0    0    0    0]\n",
      " [  58    0    0    2    0    0   11    0    0    0    0    0    0    0\n",
      "    48    0    0    0    0    0    0]\n",
      " [  12    1    0    0    0    0    0    0    0    0    0    0    0    0\n",
      "     0    0    0    0    0    0    0]\n",
      " [   3    0    0    0    0    0    0    0    0    0    0    0    0    0\n",
      "     0    0    0    0    0    0    0]\n",
      " [  28    0    1    0    0    0    1    0    0    0    0    0    0    0\n",
      "     0    0    0    0    0    0    0]\n",
      " [   1    0    0    0    0    0    0    0    0    0    0    0    0    0\n",
      "     0    0    0    0    0    0    0]\n",
      " [   2    1    0    0    0    0    0    0    0    0    0    0    0    0\n",
      "     0    0    0    0    0    0    0]\n",
      " [   2    0    0    0    0    0    0    0    0    0    0    0    0    0\n",
      "     0    0    0    0    0    0    0]]\n"
     ]
    }
   ],
   "source": [
    "# Confusion matrix for ExtraTreesClassifier() classifier\n",
    "\n",
    "print(confusion_matrix(y_true_str_extrf, y_pred_str_extrf))"
   ]
  },
  {
   "cell_type": "code",
   "execution_count": 87,
   "metadata": {
    "colab": {},
    "colab_type": "code",
    "id": "xuDZsVmLA84j"
   },
   "outputs": [
    {
     "name": "stdout",
     "output_type": "stream",
     "text": [
      "              precision    recall  f1-score   support\n",
      "\n",
      "           0       0.48      0.94      0.64      1453\n",
      "           1       0.87      0.72      0.79       458\n",
      "           2       0.88      0.11      0.20       122\n",
      "           3       0.64      0.40      0.49       163\n",
      "           4       1.00      0.08      0.14        77\n",
      "           5       0.00      0.00      0.00        41\n",
      "           6       0.54      0.27      0.36       497\n",
      "           7       0.00      0.00      0.00        40\n",
      "           8       0.00      0.00      0.00        12\n",
      "           9       0.00      0.00      0.00        64\n",
      "          10       0.00      0.00      0.00         8\n",
      "          11       0.76      0.05      0.10       302\n",
      "          12       0.00      0.00      0.00       173\n",
      "          13       0.82      0.07      0.13       123\n",
      "          14       0.74      0.40      0.52       119\n",
      "          15       0.00      0.00      0.00        13\n",
      "          16       0.00      0.00      0.00         3\n",
      "          17       0.00      0.00      0.00        30\n",
      "          18       0.00      0.00      0.00         1\n",
      "          19       0.00      0.00      0.00         3\n",
      "          20       0.00      0.00      0.00         2\n",
      "\n",
      "    accuracy                           0.54      3704\n",
      "   macro avg       0.32      0.15      0.16      3704\n",
      "weighted avg       0.56      0.54      0.46      3704\n",
      "\n"
     ]
    }
   ],
   "source": [
    "# Classification report for ExtraTreesClassifier() classifier\n",
    "\n",
    "print(classification_report(y_true_str_extrf, y_pred_str_extrf))"
   ]
  },
  {
   "cell_type": "code",
   "execution_count": 60,
   "metadata": {},
   "outputs": [
    {
     "name": "stderr",
     "output_type": "stream",
     "text": [
      "Using TensorFlow backend.\n"
     ]
    }
   ],
   "source": [
    "import keras\n",
    "from keras.models import Sequential\n",
    "from keras.layers import Dense, regularizers"
   ]
  },
  {
   "cell_type": "code",
   "execution_count": 61,
   "metadata": {},
   "outputs": [],
   "source": [
    "def ANN(X, one_hot_train_y):\n",
    "    \n",
    "    # Initialising the ANN\n",
    "\n",
    "    ann = Sequential()\n",
    "    \n",
    "    # Adding the input layer and the first hidden layer\n",
    "\n",
    "    ann.add(Dense(units= 128, kernel_initializer='uniform',activation='relu',kernel_regularizer=regularizers.l2(0.001),\n",
    "                    input_shape= (X.shape[1],)))\n",
    "\n",
    "    # Adding the output layer\n",
    "\n",
    "    ann.add(Dense(units=one_hot_train_y.shape[1], kernel_initializer='uniform',activation=\"softmax\"))\n",
    "    ann.compile(optimizer='sgd',loss= 'categorical_crossentropy',metrics=['accuracy'])\n",
    "    history = ann.fit(sc.fit_transform(X),one_hot_train_y,\n",
    "                      validation_split=0.15,batch_size= 64,epochs=150,verbose=False)\n",
    "    return ann, history"
   ]
  },
  {
   "cell_type": "code",
   "execution_count": 133,
   "metadata": {},
   "outputs": [],
   "source": [
    "#  Converting training , validation and test set in to one hot vector.\n",
    "\n",
    "one_hot_train_y = keras.utils.to_categorical(np.concatenate([y_train_str,y_val_str]))\n",
    "one_hot_test_y = keras.utils.to_categorical(y_test_str)\n",
    "\n",
    "# Training ANN\n",
    "\n",
    "ann, history = ANN(np.concatenate([X_train_str, X_val_str]), one_hot_train_y)"
   ]
  },
  {
   "cell_type": "code",
   "execution_count": 134,
   "metadata": {},
   "outputs": [
    {
     "name": "stdout",
     "output_type": "stream",
     "text": [
      "14816/14816 [==============================] - 0s 23us/step\n"
     ]
    },
    {
     "data": {
      "text/plain": [
       "0.802713282937365"
      ]
     },
     "execution_count": 134,
     "metadata": {},
     "output_type": "execute_result"
    }
   ],
   "source": [
    "# Training accuracy\n",
    "\n",
    "ann.evaluate(sc.transform(np.concatenate([X_train_str, X_val_str])), one_hot_train_y)[1]"
   ]
  },
  {
   "cell_type": "code",
   "execution_count": 135,
   "metadata": {},
   "outputs": [
    {
     "name": "stdout",
     "output_type": "stream",
     "text": [
      "3705/3705 [==============================] - 0s 27us/step\n"
     ]
    }
   ],
   "source": [
    "# Calculating loss and test accuracy\n",
    "\n",
    "loss_test, accuracy_test = ann.evaluate(sc.transform(X_test_str), one_hot_test_y)"
   ]
  },
  {
   "cell_type": "code",
   "execution_count": 136,
   "metadata": {},
   "outputs": [
    {
     "name": "stdout",
     "output_type": "stream",
     "text": [
      "Loss for test set of ANN : 0.8674358842826565\n",
      "Accuracy for test set of ANN is  0.7354925777908923\n"
     ]
    }
   ],
   "source": [
    "print(\"Loss for test set of ANN :\",loss_test)\n",
    "print(\"Accuracy for test set of ANN is \",accuracy_test)"
   ]
  },
  {
   "cell_type": "code",
   "execution_count": 62,
   "metadata": {},
   "outputs": [],
   "source": [
    "import matplotlib.pyplot as plt\n",
    "%matplotlib inline"
   ]
  },
  {
   "cell_type": "code",
   "execution_count": 99,
   "metadata": {},
   "outputs": [
    {
     "data": {
      "text/plain": [
       "<matplotlib.legend.Legend at 0x2b0ae426f28>"
      ]
     },
     "execution_count": 99,
     "metadata": {},
     "output_type": "execute_result"
    },
    {
     "data": {
      "image/png": "[encoded data removed]",
      "text/plain": [
       "<Figure size 432x288 with 1 Axes>"
      ]
     },
     "metadata": {
      "needs_background": "light"
     },
     "output_type": "display_data"
    }
   ],
   "source": [
    "# Model accuracy for ANN\n",
    "\n",
    "plt.plot(history.history['acc'])\n",
    "plt.plot(history.history['val_acc'])\n",
    "plt.title(\"Model ANN's accuracy\")\n",
    "plt.ylabel('Accuracy')\n",
    "plt.xlabel('Epoch')\n",
    "plt.legend(['Train', 'Test'], loc='upper left')"
   ]
  },
  {
   "cell_type": "code",
   "execution_count": 100,
   "metadata": {},
   "outputs": [
    {
     "data": {
      "image/png": "[encoded data removed]",
      "text/plain": [
       "<Figure size 432x288 with 1 Axes>"
      ]
     },
     "metadata": {
      "needs_background": "light"
     },
     "output_type": "display_data"
    }
   ],
   "source": [
    "# Loss for ANN\n",
    "\n",
    "plt.plot(history.history['loss'])\n",
    "plt.plot(history.history['val_loss'])\n",
    "plt.title(\"Model ANN's loss\")\n",
    "plt.ylabel('Loss')\n",
    "plt.xlabel('Epoch')\n",
    "plt.legend(['Train', 'Test'], loc='upper left')\n",
    "plt.show()"
   ]
  },
  {
   "cell_type": "code",
   "execution_count": 144,
   "metadata": {},
   "outputs": [
    {
     "name": "stdout",
     "output_type": "stream",
     "text": [
      "              precision    recall  f1-score   support\n",
      "\n",
      "           0       0.88      0.49      0.63      1454\n",
      "           1       0.82      0.88      0.85       458\n",
      "           2       0.51      0.66      0.58       122\n",
      "           3       0.57      0.83      0.68       163\n",
      "           4       0.47      0.75      0.58        77\n",
      "           5       0.13      0.23      0.17        40\n",
      "           6       0.75      0.77      0.76       497\n",
      "           7       0.31      0.82      0.45        40\n",
      "           8       0.38      0.42      0.40        12\n",
      "           9       0.54      0.94      0.68        64\n",
      "          10       0.05      0.12      0.07         8\n",
      "          11       0.61      0.71      0.66       302\n",
      "          12       0.40      0.71      0.52       174\n",
      "          13       0.53      0.56      0.55       123\n",
      "          14       0.70      0.92      0.80       119\n",
      "          15       0.15      0.54      0.23        13\n",
      "          16       0.50      1.00      0.67         3\n",
      "          17       0.35      0.63      0.45        30\n",
      "          18       0.00      0.00      0.00         2\n",
      "          19       0.00      0.00      0.00         3\n",
      "          20       0.00      0.00      0.00         1\n",
      "\n",
      "    accuracy                           0.66      3705\n",
      "   macro avg       0.41      0.57      0.46      3705\n",
      "weighted avg       0.73      0.66      0.66      3705\n",
      "\n"
     ]
    }
   ],
   "source": [
    "# Classification report for ANN classifier\n",
    "\n",
    "print(classification_report(y_test_str, np.argmax(ann.predict(sc.transform(X_test_str)),axis=1)))"
   ]
  },
  {
   "cell_type": "code",
   "execution_count": 63,
   "metadata": {},
   "outputs": [],
   "source": [
    "from xgboost import XGBClassifier"
   ]
  },
  {
   "cell_type": "code",
   "execution_count": 71,
   "metadata": {},
   "outputs": [
    {
     "name": "stdout",
     "output_type": "stream",
     "text": [
      "Training accuracy :  0.8054355651547876\n",
      "Validation accuracy :  0.7397408207343412\n"
     ]
    }
   ],
   "source": [
    "xgb_ = XGBClassifier(max_depth=3,learning_rate=0.1)\n",
    "xgb, y_true_str_xgb, y_pred_str_xgb = model(xgb_, X_train_str, y_train_str, X_val_str, y_val_str, name = \"Validation\")"
   ]
  },
  {
   "cell_type": "code",
   "execution_count": 72,
   "metadata": {},
   "outputs": [
    {
     "name": "stdout",
     "output_type": "stream",
     "text": [
      "Test accuracy for xgb classifier : 0.7392712550607288\n"
     ]
    }
   ],
   "source": [
    "print(\"Test accuracy for xgb classifier :\", xgb.score(sc.transform(X_test_str), y_test_str))"
   ]
  },
  {
   "cell_type": "code",
   "execution_count": 73,
   "metadata": {},
   "outputs": [
    {
     "name": "stdout",
     "output_type": "stream",
     "text": [
      "              precision    recall  f1-score   support\n",
      "\n",
      "           0       0.69      0.87      0.77      1454\n",
      "           1       0.95      0.98      0.97       458\n",
      "           2       0.60      0.30      0.40       122\n",
      "           3       0.77      0.68      0.72       163\n",
      "           4       0.85      0.51      0.63        77\n",
      "           5       0.80      0.10      0.18        40\n",
      "           6       0.74      0.86      0.80       497\n",
      "           7       0.00      0.00      0.00        40\n",
      "           8       0.00      0.00      0.00        12\n",
      "           9       0.62      0.78      0.69        64\n",
      "          10       0.00      0.00      0.00         8\n",
      "          11       0.69      0.51      0.59       302\n",
      "          12       0.00      0.00      0.00       174\n",
      "          13       0.58      0.54      0.56       123\n",
      "          14       0.95      0.98      0.97       119\n",
      "          15       0.33      0.08      0.12        13\n",
      "          16       0.00      0.00      0.00         3\n",
      "          17       0.61      0.37      0.46        30\n",
      "          18       1.00      0.50      0.67         2\n",
      "          19       0.00      0.00      0.00         3\n",
      "          20       0.00      0.00      0.00         1\n",
      "\n",
      "    accuracy                           0.74      3705\n",
      "   macro avg       0.49      0.38      0.41      3705\n",
      "weighted avg       0.69      0.74      0.70      3705\n",
      "\n"
     ]
    }
   ],
   "source": [
    "# Classification report for XGBClassifier classifier\n",
    "\n",
    "print(classification_report(y_test_str, xgb.predict(sc.transform(X_test_str))))"
   ]
  },
  {
   "cell_type": "code",
   "execution_count": 64,
   "metadata": {},
   "outputs": [],
   "source": [
    "from sklearn.tree import DecisionTreeClassifier\n",
    "from sklearn.ensemble import AdaBoostClassifier,GradientBoostingClassifier"
   ]
  },
  {
   "cell_type": "code",
   "execution_count": 75,
   "metadata": {},
   "outputs": [
    {
     "name": "stdout",
     "output_type": "stream",
     "text": [
      "Training accuracy :  0.7099532037437005\n",
      "Validation accuracy :  0.6730561555075594\n"
     ]
    }
   ],
   "source": [
    "ada_clf = AdaBoostClassifier(DecisionTreeClassifier(max_depth=6), n_estimators=151, algorithm='SAMME.R', learning_rate=0.003)\n",
    "ada, y_true_str_ada, y_pred_str_ada = model(ada_clf, X_train_str, y_train_str, X_val_str, y_val_str, name = \"Validation\")"
   ]
  },
  {
   "cell_type": "code",
   "execution_count": 76,
   "metadata": {},
   "outputs": [
    {
     "name": "stdout",
     "output_type": "stream",
     "text": [
      "Test accuracy for xgb classifier : 0.6785425101214575\n"
     ]
    }
   ],
   "source": [
    "print(\"Test accuracy for xgb classifier :\", ada.score(sc.transform(X_test_str), y_test_str))"
   ]
  },
  {
   "cell_type": "code",
   "execution_count": 77,
   "metadata": {},
   "outputs": [
    {
     "name": "stdout",
     "output_type": "stream",
     "text": [
      "              precision    recall  f1-score   support\n",
      "\n",
      "           0       0.62      0.90      0.73      1454\n",
      "           1       0.96      0.95      0.95       458\n",
      "           2       0.32      0.09      0.14       122\n",
      "           3       0.82      0.49      0.61       163\n",
      "           4       0.67      0.05      0.10        77\n",
      "           5       0.29      0.05      0.09        40\n",
      "           6       0.72      0.77      0.74       497\n",
      "           7       0.00      0.00      0.00        40\n",
      "           8       0.00      0.00      0.00        12\n",
      "           9       0.76      0.20      0.32        64\n",
      "          10       0.00      0.00      0.00         8\n",
      "          11       0.53      0.53      0.53       302\n",
      "          12       0.00      0.00      0.00       174\n",
      "          13       0.56      0.07      0.13       123\n",
      "          14       0.95      0.92      0.94       119\n",
      "          15       0.00      0.00      0.00        13\n",
      "          16       0.00      0.00      0.00         3\n",
      "          17       0.00      0.00      0.00        30\n",
      "          18       0.00      0.00      0.00         2\n",
      "          19       0.00      0.00      0.00         3\n",
      "          20       0.00      0.00      0.00         1\n",
      "\n",
      "    accuracy                           0.68      3705\n",
      "   macro avg       0.34      0.24      0.25      3705\n",
      "weighted avg       0.63      0.68      0.62      3705\n",
      "\n"
     ]
    }
   ],
   "source": [
    "# Classification report for AdaBoostClassifier classifier\n",
    "\n",
    "print(classification_report(y_test_str, ada.predict(sc.transform(X_test_str))))"
   ]
  },
  {
   "cell_type": "code",
   "execution_count": 78,
   "metadata": {},
   "outputs": [
    {
     "name": "stdout",
     "output_type": "stream",
     "text": [
      "Training accuracy :  0.8201043916486681\n",
      "Validation accuracy :  0.722732181425486\n"
     ]
    }
   ],
   "source": [
    "gbc_ = GradientBoostingClassifier(max_depth=2,n_estimators=151,learning_rate=0.15)\n",
    "gbc, y_true_str_gbc, y_pred_str_gbc = model(gbc_, X_train_str, y_train_str, X_val_str, y_val_str, name = \"Validation\")"
   ]
  },
  {
   "cell_type": "code",
   "execution_count": 79,
   "metadata": {},
   "outputs": [
    {
     "name": "stdout",
     "output_type": "stream",
     "text": [
      "Test accuracy for xgb classifier : 0.7271255060728745\n"
     ]
    }
   ],
   "source": [
    "print(\"Test accuracy for xgb classifier :\", gbc.score(sc.transform(X_test_str), y_test_str))"
   ]
  },
  {
   "cell_type": "code",
   "execution_count": 80,
   "metadata": {},
   "outputs": [
    {
     "name": "stdout",
     "output_type": "stream",
     "text": [
      "              precision    recall  f1-score   support\n",
      "\n",
      "           0       0.70      0.86      0.77      1454\n",
      "           1       0.96      0.97      0.96       458\n",
      "           2       0.52      0.28      0.36       122\n",
      "           3       0.74      0.74      0.74       163\n",
      "           4       0.87      0.58      0.70        77\n",
      "           5       0.37      0.25      0.30        40\n",
      "           6       0.76      0.81      0.78       497\n",
      "           7       0.67      0.05      0.09        40\n",
      "           8       1.00      0.08      0.15        12\n",
      "           9       0.60      0.70      0.65        64\n",
      "          10       0.00      0.00      0.00         8\n",
      "          11       0.67      0.47      0.55       302\n",
      "          12       0.53      0.10      0.17       174\n",
      "          13       0.55      0.53      0.54       123\n",
      "          14       0.93      0.94      0.94       119\n",
      "          15       0.14      0.08      0.10        13\n",
      "          16       0.00      0.00      0.00         3\n",
      "          17       0.62      0.27      0.37        30\n",
      "          18       0.00      0.00      0.00         2\n",
      "          19       0.00      0.00      0.00         3\n",
      "          20       0.00      0.00      0.00         1\n",
      "\n",
      "    accuracy                           0.73      3705\n",
      "   macro avg       0.51      0.37      0.39      3705\n",
      "weighted avg       0.72      0.73      0.71      3705\n",
      "\n"
     ]
    }
   ],
   "source": [
    "# Classification report for GradientBoostingClassifier classifier\n",
    "\n",
    "print(classification_report(y_test_str, gbc.predict(sc.transform(X_test_str))))"
   ]
  },
  {
   "cell_type": "code",
   "execution_count": 65,
   "metadata": {},
   "outputs": [],
   "source": [
    "from sklearn.ensemble import VotingClassifier"
   ]
  },
  {
   "cell_type": "code",
   "execution_count": 100,
   "metadata": {
    "colab": {},
    "colab_type": "code",
    "id": "ctKIJAPYBuM0"
   },
   "outputs": [
    {
     "data": {
      "text/plain": [
       "VotingClassifier(estimators=[('lr',\n",
       "                              LogisticRegression(C=1.0, class_weight=None,\n",
       "                                                 dual=False, fit_intercept=True,\n",
       "                                                 intercept_scaling=1,\n",
       "                                                 l1_ratio=None, max_iter=100,\n",
       "                                                 multi_class='multinomial',\n",
       "                                                 n_jobs=None, penalty='l2',\n",
       "                                                 random_state=None,\n",
       "                                                 solver='lbfgs', tol=0.0001,\n",
       "                                                 verbose=0, warm_start=False)),\n",
       "                             ('extrf',\n",
       "                              ExtraTreesClassifier(bootstrap=False,\n",
       "                                                   class_weight=None,\n",
       "                                                   criteri...\n",
       "                                                         max_leaf_nodes=None,\n",
       "                                                         min_impurity_decrease=0.0,\n",
       "                                                         min_impurity_split=None,\n",
       "                                                         min_samples_leaf=1,\n",
       "                                                         min_samples_split=2,\n",
       "                                                         min_weight_fraction_leaf=0.0,\n",
       "                                                         n_estimators=151,\n",
       "                                                         n_iter_no_change=None,\n",
       "                                                         presort='auto',\n",
       "                                                         random_state=None,\n",
       "                                                         subsample=1.0,\n",
       "                                                         tol=0.0001,\n",
       "                                                         validation_fraction=0.1,\n",
       "                                                         verbose=0,\n",
       "                                                         warm_start=False))],\n",
       "                 flatten_transform=True, n_jobs=None, voting='hard',\n",
       "                 weights=None)"
      ]
     },
     "execution_count": 100,
     "metadata": {},
     "output_type": "execute_result"
    }
   ],
   "source": [
    "# Ensemble learning\n",
    "\n",
    "lr = LogisticRegression(solver='lbfgs', multi_class='multinomial')\n",
    "rf = RandomForestClassifier(warm_start=True,criterion= 'entropy', max_depth= 12, max_features ='auto', n_estimators= 50)\n",
    "extrf = ExtraTreesClassifier(warm_start=True,criterion= 'gini', max_depth= 12, max_features ='sqrt', n_estimators= 50,min_samples_leaf= 2)\n",
    "sgd = SGDClassifier(alpha=0.001, penalty='l2')\n",
    "svc_l = SVC(kernel='linear', C=10, gamma = 2)\n",
    "svc_r = SVC(probability=True)\n",
    "xgb = XGBClassifier(max_depth=3,learning_rate=0.1)\n",
    "ada = AdaBoostClassifier(DecisionTreeClassifier(max_depth=6), n_estimators=151, algorithm='SAMME.R', learning_rate=0.003)\n",
    "gb = GradientBoostingClassifier(max_depth=2,n_estimators=151,learning_rate=0.15)\n",
    "\n",
    "\n",
    "# Hard Voting\n",
    "\n",
    "# hard_voting_clf = VotingClassifier(estimators=[('lr',lr), ('rf',rf), ('extrf',extrf),('sgd',sgd),('svc_l', svc_l), \n",
    "#                             ('svc_r', svc_r),('xgb',xgb),('ada',ada),('gb',gb)], voting = 'hard')\n",
    "hard_voting_clf = VotingClassifier(estimators=[('lr',lr), ('extrf',extrf), ('xgb',xgb),('svc_l', svc_l),\n",
    "                                               ('ada',ada),('gb',gb)], voting = 'hard')\n",
    "\n",
    "hard_voting_clf.fit(sc.fit_transform(np.concatenate([X_train_str,X_val_str])), np.concatenate([y_train_str,y_val_str]))"
   ]
  },
  {
   "cell_type": "code",
   "execution_count": 103,
   "metadata": {},
   "outputs": [
    {
     "data": {
      "text/plain": [
       "0.7504724622030238"
      ]
     },
     "execution_count": 103,
     "metadata": {},
     "output_type": "execute_result"
    }
   ],
   "source": [
    "# Training accuracy for hard voting\n",
    "\n",
    "accuracy_score(np.concatenate([y_train_str,y_val_str]),hard_voting_clf.predict(sc.transform(np.concatenate([X_train_str,X_val_str]))))"
   ]
  },
  {
   "cell_type": "code",
   "execution_count": 104,
   "metadata": {
    "colab": {},
    "colab_type": "code",
    "id": "2Wv5kCnABuIO"
   },
   "outputs": [
    {
     "data": {
      "text/plain": [
       "0.7036437246963563"
      ]
     },
     "execution_count": 104,
     "metadata": {},
     "output_type": "execute_result"
    }
   ],
   "source": [
    "# Test accuracy for hard voting\n",
    "\n",
    "accuracy_score(y_test_str,hard_voting_clf.predict(sc.transform(X_test_str)))"
   ]
  },
  {
   "cell_type": "code",
   "execution_count": 105,
   "metadata": {},
   "outputs": [
    {
     "name": "stdout",
     "output_type": "stream",
     "text": [
      "              precision    recall  f1-score   support\n",
      "\n",
      "           0       0.61      0.94      0.74      1454\n",
      "           1       0.94      0.99      0.96       458\n",
      "           2       0.62      0.23      0.34       122\n",
      "           3       0.80      0.63      0.71       163\n",
      "           4       0.87      0.34      0.49        77\n",
      "           5       1.00      0.07      0.14        40\n",
      "           6       0.81      0.73      0.77       497\n",
      "           7       0.00      0.00      0.00        40\n",
      "           8       0.00      0.00      0.00        12\n",
      "           9       0.79      0.59      0.68        64\n",
      "          10       0.00      0.00      0.00         8\n",
      "          11       0.69      0.24      0.35       302\n",
      "          12       0.00      0.00      0.00       174\n",
      "          13       0.65      0.37      0.47       123\n",
      "          14       0.96      0.92      0.94       119\n",
      "          15       1.00      0.08      0.14        13\n",
      "          16       0.00      0.00      0.00         3\n",
      "          17       0.50      0.03      0.06        30\n",
      "          18       0.00      0.00      0.00         2\n",
      "          19       0.00      0.00      0.00         3\n",
      "          20       0.00      0.00      0.00         1\n",
      "\n",
      "    accuracy                           0.70      3705\n",
      "   macro avg       0.49      0.29      0.32      3705\n",
      "weighted avg       0.68      0.70      0.65      3705\n",
      "\n"
     ]
    }
   ],
   "source": [
    "# Classification report for Hard voting classifier\n",
    "\n",
    "print(classification_report(y_test_str, hard_voting_clf.predict(sc.transform(X_test_str))))"
   ]
  },
  {
   "cell_type": "code",
   "execution_count": 110,
   "metadata": {},
   "outputs": [
    {
     "data": {
      "text/plain": [
       "VotingClassifier(estimators=[('lr',\n",
       "                              LogisticRegression(C=1.0, class_weight=None,\n",
       "                                                 dual=False, fit_intercept=True,\n",
       "                                                 intercept_scaling=1,\n",
       "                                                 l1_ratio=None, max_iter=100,\n",
       "                                                 multi_class='multinomial',\n",
       "                                                 n_jobs=None, penalty='l2',\n",
       "                                                 random_state=None,\n",
       "                                                 solver='lbfgs', tol=0.0001,\n",
       "                                                 verbose=0, warm_start=False)),\n",
       "                             ('extrf',\n",
       "                              ExtraTreesClassifier(bootstrap=False,\n",
       "                                                   class_weight=None,\n",
       "                                                   criteri...\n",
       "                                                         max_leaf_nodes=None,\n",
       "                                                         min_impurity_decrease=0.0,\n",
       "                                                         min_impurity_split=None,\n",
       "                                                         min_samples_leaf=1,\n",
       "                                                         min_samples_split=2,\n",
       "                                                         min_weight_fraction_leaf=0.0,\n",
       "                                                         n_estimators=151,\n",
       "                                                         n_iter_no_change=None,\n",
       "                                                         presort='auto',\n",
       "                                                         random_state=None,\n",
       "                                                         subsample=1.0,\n",
       "                                                         tol=0.0001,\n",
       "                                                         validation_fraction=0.1,\n",
       "                                                         verbose=0,\n",
       "                                                         warm_start=False))],\n",
       "                 flatten_transform=True, n_jobs=None, voting='soft',\n",
       "                 weights=None)"
      ]
     },
     "execution_count": 110,
     "metadata": {},
     "output_type": "execute_result"
    }
   ],
   "source": [
    "# Soft Voting\n",
    "\n",
    "svc_l = SVC(kernel='linear', C=10, gamma = 2,probability=True)\n",
    "\n",
    "soft_voting_clf = VotingClassifier(estimators=[('lr',lr), ('extrf',extrf),('svc_l', svc_l), \n",
    "                            ('xgb',xgb),('ada',ada),('gb',gb)], voting = 'soft')\n",
    "\n",
    "\n",
    "soft_voting_clf.fit(sc.fit_transform(np.concatenate([X_train_str,X_val_str])), np.concatenate([y_train_str,y_val_str]))"
   ]
  },
  {
   "cell_type": "code",
   "execution_count": 111,
   "metadata": {},
   "outputs": [
    {
     "data": {
      "text/plain": [
       "0.7742980561555075"
      ]
     },
     "execution_count": 111,
     "metadata": {},
     "output_type": "execute_result"
    }
   ],
   "source": [
    "# Training accuracy for soft voting\n",
    "\n",
    "accuracy_score(np.concatenate([y_train_str,y_val_str]), soft_voting_clf.predict(sc.transform(np.concatenate([X_train_str,X_val_str]))))"
   ]
  },
  {
   "cell_type": "code",
   "execution_count": 112,
   "metadata": {},
   "outputs": [
    {
     "data": {
      "text/plain": [
       "0.7222672064777328"
      ]
     },
     "execution_count": 112,
     "metadata": {},
     "output_type": "execute_result"
    }
   ],
   "source": [
    "# Test accuracy for soft voting\n",
    "\n",
    "accuracy_score(y_test_str, soft_voting_clf.predict(sc.transform(X_test_str)))"
   ]
  },
  {
   "cell_type": "code",
   "execution_count": 113,
   "metadata": {},
   "outputs": [
    {
     "name": "stdout",
     "output_type": "stream",
     "text": [
      "              precision    recall  f1-score   support\n",
      "\n",
      "           0       0.64      0.92      0.75      1454\n",
      "           1       0.95      0.99      0.97       458\n",
      "           2       0.62      0.25      0.35       122\n",
      "           3       0.79      0.66      0.72       163\n",
      "           4       0.88      0.36      0.51        77\n",
      "           5       1.00      0.07      0.14        40\n",
      "           6       0.79      0.79      0.79       497\n",
      "           7       0.00      0.00      0.00        40\n",
      "           8       0.00      0.00      0.00        12\n",
      "           9       0.79      0.66      0.72        64\n",
      "          10       0.00      0.00      0.00         8\n",
      "          11       0.76      0.35      0.48       302\n",
      "          12       0.00      0.00      0.00       174\n",
      "          13       0.67      0.47      0.56       123\n",
      "          14       0.96      0.97      0.97       119\n",
      "          15       0.00      0.00      0.00        13\n",
      "          16       0.00      0.00      0.00         3\n",
      "          17       0.67      0.07      0.12        30\n",
      "          18       0.00      0.00      0.00         2\n",
      "          19       0.00      0.00      0.00         3\n",
      "          20       0.00      0.00      0.00         1\n",
      "\n",
      "    accuracy                           0.72      3705\n",
      "   macro avg       0.45      0.31      0.34      3705\n",
      "weighted avg       0.69      0.72      0.68      3705\n",
      "\n"
     ]
    }
   ],
   "source": [
    "# Classification report for Soft voting classifier\n",
    "\n",
    "print(classification_report(y_test_str, soft_voting_clf.predict(sc.transform(X_test_str))))"
   ]
  },
  {
   "cell_type": "markdown",
   "metadata": {},
   "source": [
    "# Over Sampling"
   ]
  },
  {
   "cell_type": "code",
   "execution_count": 66,
   "metadata": {},
   "outputs": [],
   "source": [
    "from imblearn.over_sampling import RandomOverSampler\n",
    "from collections import Counter"
   ]
  },
  {
   "cell_type": "code",
   "execution_count": 67,
   "metadata": {},
   "outputs": [],
   "source": [
    "X = np.concatenate([X_train_str, X_val_str])\n",
    "Y = np.concatenate([y_train_str, y_val_str])\n",
    "\n",
    "ros = RandomOverSampler(random_state=0)\n",
    "\n",
    "# Random Oversampling is being applied on training set not on test set.\n",
    "\n",
    "X_resampled, y_resampled = ros.fit_resample(X, Y)"
   ]
  },
  {
   "cell_type": "code",
   "execution_count": 68,
   "metadata": {},
   "outputs": [
    {
     "name": "stdout",
     "output_type": "stream",
     "text": [
      "The shape of X_resampled (122073, 95)\n",
      "The shape of Y_resampled (122073,)\n"
     ]
    }
   ],
   "source": [
    "print(\"The shape of X_resampled\", X_resampled.shape)\n",
    "print(\"The shape of Y_resampled\", y_resampled.shape)"
   ]
  },
  {
   "cell_type": "code",
   "execution_count": 117,
   "metadata": {},
   "outputs": [
    {
     "name": "stdout",
     "output_type": "stream",
     "text": [
      "[(0, 5813), (1, 5813), (2, 5813), (3, 5813), (4, 5813), (5, 5813), (6, 5813), (7, 5813), (8, 5813), (9, 5813), (10, 5813), (11, 5813), (12, 5813), (13, 5813), (14, 5813), (15, 5813), (16, 5813), (17, 5813), (18, 5813), (19, 5813), (20, 5813)]\n"
     ]
    }
   ],
   "source": [
    "# Now distribution of classes are uniform.\n",
    "\n",
    "print(sorted(Counter(y_resampled).items()))"
   ]
  },
  {
   "cell_type": "code",
   "execution_count": 120,
   "metadata": {},
   "outputs": [
    {
     "name": "stdout",
     "output_type": "stream",
     "text": [
      "Training accuracy :  0.7911085989530855\n",
      "Test accuracy :  0.45668016194331984\n"
     ]
    }
   ],
   "source": [
    "# LogisticRegression() classifier.\n",
    "\n",
    "lr_, y_true_str_lr, y_pred_str_lr = model(LogisticRegression(solver='lbfgs', multi_class='multinomial'), X_resampled, y_resampled, X_test_str, y_test_str, name = \"Test\")"
   ]
  },
  {
   "cell_type": "code",
   "execution_count": 137,
   "metadata": {},
   "outputs": [
    {
     "name": "stdout",
     "output_type": "stream",
     "text": [
      "Training accuracy :  0.6268462313533705\n",
      "Test accuracy :  0.3835357624831309\n"
     ]
    }
   ],
   "source": [
    "# SGDClassifier().\n",
    "\n",
    "sgd_, y_true_str_sgd, y_pred_str_sgd = model(SGDClassifier(alpha=0.001), X_resampled, y_resampled, X_test_str, y_test_str, name = \"Test\")"
   ]
  },
  {
   "cell_type": "code",
   "execution_count": 122,
   "metadata": {},
   "outputs": [
    {
     "name": "stdout",
     "output_type": "stream",
     "text": [
      "Training accuracy :  0.8823081271042736\n",
      "Test accuracy :  0.5843454790823212\n"
     ]
    }
   ],
   "source": [
    "# SVC classifier.\n",
    "\n",
    "svc_, y_true_str_svc, y_pred_str_svc = model(SVC(kernel='linear', C=1), X_resampled, y_resampled, X_test_str, y_test_str, name = \"Test\")"
   ]
  },
  {
   "cell_type": "code",
   "execution_count": 138,
   "metadata": {},
   "outputs": [
    {
     "name": "stdout",
     "output_type": "stream",
     "text": [
      "Training accuracy :  0.9998607390659687\n",
      "Test accuracy :  0.6699055330634278\n"
     ]
    }
   ],
   "source": [
    "# Randomforest() classifier.\n",
    "\n",
    "rf_, y_true_str_rf, y_pred_str_rf = model(RandomForestClassifier(),X_resampled, y_resampled, X_test_str, y_test_str, name = \"Test\")"
   ]
  },
  {
   "cell_type": "code",
   "execution_count": 156,
   "metadata": {},
   "outputs": [
    {
     "name": "stdout",
     "output_type": "stream",
     "text": [
      "122073/122073 [==============================] - 3s 28us/step\n",
      "Training accuracy :  0.8178794655656861\n",
      "3705/3705 [==============================] - 0s 35us/step\n",
      "\n",
      "Loss for test set of ANN : 1.1068232233546844\n",
      "Accuracy for test set of ANN is  0.657759784268625\n"
     ]
    }
   ],
   "source": [
    "# ANN\n",
    "\n",
    "one_hot_train_y = keras.utils.to_categorical(y_resampled)\n",
    "one_hot_test_y = keras.utils.to_categorical(y_test_str)\n",
    "\n",
    "# Training ANN\n",
    "\n",
    "ann, history = ANN(X_resampled, one_hot_train_y)\n",
    "\n",
    "# Training accuracy\n",
    "\n",
    "print('Training accuracy : ',ann.evaluate(sc.transform(X_resampled), one_hot_train_y)[1])\n",
    "\n",
    "# Calculating loss and test accuracy\n",
    "\n",
    "loss_test, accuracy_test = ann.evaluate(sc.transform(X_test_str), one_hot_test_y)\n",
    "print()\n",
    "print(\"Loss for test set of ANN :\",loss_test)\n",
    "print(\"Accuracy for test set of ANN is \",accuracy_test)"
   ]
  },
  {
   "cell_type": "code",
   "execution_count": 141,
   "metadata": {},
   "outputs": [
    {
     "name": "stdout",
     "output_type": "stream",
     "text": [
      "Training accuracy :  0.8895742711328467\n",
      "Test accuracy :  0.5824561403508772\n"
     ]
    }
   ],
   "source": [
    "xgb_ = XGBClassifier(max_depth=3,learning_rate=0.1)\n",
    "xgb, y_true_str_xgb, y_pred_str_xgb = model(xgb_, X_resampled, y_resampled, X_test_str, y_test_str, name = \"Test\")"
   ]
  },
  {
   "cell_type": "code",
   "execution_count": 142,
   "metadata": {},
   "outputs": [
    {
     "name": "stdout",
     "output_type": "stream",
     "text": [
      "Training accuracy :  0.8268167408026345\n",
      "Test accuracy :  0.524966261808367\n"
     ]
    }
   ],
   "source": [
    "ada_clf = AdaBoostClassifier(DecisionTreeClassifier(max_depth=6), n_estimators=151, algorithm='SAMME.R', learning_rate=0.003)\n",
    "ada, y_true_str_ada, y_pred_str_ada = model(ada_clf, X_resampled, y_resampled, X_test_str, y_test_str, name = \"Test\")"
   ]
  },
  {
   "cell_type": "code",
   "execution_count": 143,
   "metadata": {},
   "outputs": [
    {
     "name": "stdout",
     "output_type": "stream",
     "text": [
      "Training accuracy :  0.9207113776183103\n",
      "Test accuracy :  0.6296896086369771\n"
     ]
    }
   ],
   "source": [
    "gbc_ = GradientBoostingClassifier(max_depth=2,n_estimators=151,learning_rate=0.15)\n",
    "gbc, y_true_str_gbc, y_pred_str_gbc = model(gbc_, X_resampled, y_resampled, X_test_str, y_test_str, name = \"Test\")"
   ]
  },
  {
   "cell_type": "markdown",
   "metadata": {},
   "source": [
    "# Random Oversampling on the whole dataset"
   ]
  },
  {
   "cell_type": "code",
   "execution_count": 69,
   "metadata": {},
   "outputs": [],
   "source": [
    "X = np.concatenate([X_train_str, X_val_str, X_test_str])\n",
    "Y = np.concatenate([y_train_str, y_val_str, y_test_str])\n",
    "\n",
    "ros = RandomOverSampler(random_state=42)\n",
    "\n",
    "# Random Oversampling\n",
    "\n",
    "X_resampled, y_resampled = ros.fit_resample(X, Y)"
   ]
  },
  {
   "cell_type": "code",
   "execution_count": 70,
   "metadata": {},
   "outputs": [
    {
     "name": "stdout",
     "output_type": "stream",
     "text": [
      "The shape of X_resampled (152607, 95)\n",
      "The shape of Y_resampled (152607,)\n"
     ]
    }
   ],
   "source": [
    "print(\"The shape of X_resampled\", X_resampled.shape)\n",
    "print(\"The shape of Y_resampled\", y_resampled.shape)"
   ]
  },
  {
   "cell_type": "code",
   "execution_count": 71,
   "metadata": {},
   "outputs": [
    {
     "name": "stdout",
     "output_type": "stream",
     "text": [
      "[(0, 7267), (1, 7267), (2, 7267), (3, 7267), (4, 7267), (5, 7267), (6, 7267), (7, 7267), (8, 7267), (9, 7267), (10, 7267), (11, 7267), (12, 7267), (13, 7267), (14, 7267), (15, 7267), (16, 7267), (17, 7267), (18, 7267), (19, 7267), (20, 7267)]\n"
     ]
    }
   ],
   "source": [
    "# Now distribution of classes are uniform.\n",
    "\n",
    "print(sorted(Counter(y_resampled).items()))"
   ]
  },
  {
   "cell_type": "code",
   "execution_count": 72,
   "metadata": {},
   "outputs": [],
   "source": [
    "# Splitting Training set into Training and Test set\n",
    "\n",
    "split_2 = StratifiedShuffleSplit(n_splits=1,test_size=0.25,random_state=42)\n",
    "\n",
    "for train_index, tes_index in split_2.split(X_resampled, y_resampled):\n",
    "    X_train_Ovrsampled = X_resampled[train_index]\n",
    "    X_test_Ovrsampled = X_resampled[tes_index]\n",
    "    y_train_Ovrsampled = y_resampled[train_index]\n",
    "    y_test_Ovrsampled = y_resampled[tes_index]"
   ]
  },
  {
   "cell_type": "code",
   "execution_count": 74,
   "metadata": {},
   "outputs": [
    {
     "name": "stdout",
     "output_type": "stream",
     "text": [
      "Training accuracy :  0.7852431086453191\n",
      "Test accuracy :  0.780011532816104\n"
     ]
    }
   ],
   "source": [
    "# LogisticRegression() classifier.\n",
    "\n",
    "lr_, y_true_str_lr, y_pred_str_lr = model(LogisticRegression(solver='lbfgs', multi_class='multinomial'), X_train_Ovrsampled, y_train_Ovrsampled, X_test_Ovrsampled, y_test_Ovrsampled, name = \"Test\")"
   ]
  },
  {
   "cell_type": "code",
   "execution_count": 77,
   "metadata": {},
   "outputs": [
    {
     "name": "stdout",
     "output_type": "stream",
     "text": [
      "              precision    recall  f1-score   support\n",
      "\n",
      "           0       0.31      0.12      0.18      1816\n",
      "           1       0.78      0.79      0.78      1816\n",
      "           2       0.53      0.47      0.50      1817\n",
      "           3       0.80      0.81      0.80      1817\n",
      "           4       0.76      0.80      0.78      1817\n",
      "           5       0.53      0.52      0.53      1817\n",
      "           6       0.68      0.69      0.68      1817\n",
      "           7       0.77      0.92      0.83      1817\n",
      "           8       0.84      0.90      0.87      1816\n",
      "           9       0.89      0.96      0.93      1817\n",
      "          10       0.84      1.00      0.91      1817\n",
      "          11       0.67      0.51      0.58      1817\n",
      "          12       0.61      0.54      0.57      1817\n",
      "          13       0.53      0.56      0.55      1817\n",
      "          14       0.88      0.94      0.91      1817\n",
      "          15       0.88      0.99      0.93      1816\n",
      "          16       0.99      1.00      1.00      1817\n",
      "          17       0.77      0.87      0.81      1816\n",
      "          18       0.99      1.00      1.00      1817\n",
      "          19       0.91      1.00      0.95      1817\n",
      "          20       1.00      1.00      1.00      1817\n",
      "\n",
      "    accuracy                           0.78     38152\n",
      "   macro avg       0.76      0.78      0.77     38152\n",
      "weighted avg       0.76      0.78      0.77     38152\n",
      "\n"
     ]
    }
   ],
   "source": [
    "# Classification report for LogisticRegression classifier\n",
    "\n",
    "print(classification_report(y_true_str_lr, y_pred_str_lr))"
   ]
  },
  {
   "cell_type": "code",
   "execution_count": 82,
   "metadata": {},
   "outputs": [
    {
     "name": "stdout",
     "output_type": "stream",
     "text": [
      "Training accuracy :  0.8743174173255864\n",
      "Test accuracy :  0.8697315999161249\n"
     ]
    }
   ],
   "source": [
    "# SVC classifier.\n",
    "\n",
    "svc_, y_true_str_svc, y_pred_str_svc = model(SVC(kernel='linear', C=1), X_train_Ovrsampled, y_train_Ovrsampled, X_test_Ovrsampled, y_test_Ovrsampled, name = \"Test\")"
   ]
  },
  {
   "cell_type": "code",
   "execution_count": 84,
   "metadata": {},
   "outputs": [
    {
     "name": "stdout",
     "output_type": "stream",
     "text": [
      "              precision    recall  f1-score   support\n",
      "\n",
      "           0       0.48      0.34      0.40      1816\n",
      "           1       0.88      0.95      0.91      1816\n",
      "           2       0.66      0.66      0.66      1817\n",
      "           3       0.89      0.96      0.92      1817\n",
      "           4       0.90      0.95      0.93      1817\n",
      "           5       0.69      0.72      0.71      1817\n",
      "           6       0.77      0.79      0.78      1817\n",
      "           7       0.94      0.97      0.95      1817\n",
      "           8       0.98      0.97      0.97      1816\n",
      "           9       0.96      1.00      0.98      1817\n",
      "          10       1.00      1.00      1.00      1817\n",
      "          11       0.76      0.67      0.71      1817\n",
      "          12       0.73      0.70      0.71      1817\n",
      "          13       0.63      0.65      0.64      1817\n",
      "          14       0.93      0.99      0.96      1817\n",
      "          15       0.99      1.00      0.99      1816\n",
      "          16       1.00      1.00      1.00      1817\n",
      "          17       0.95      0.96      0.96      1816\n",
      "          18       1.00      1.00      1.00      1817\n",
      "          19       0.99      1.00      1.00      1817\n",
      "          20       1.00      1.00      1.00      1817\n",
      "\n",
      "    accuracy                           0.87     38152\n",
      "   macro avg       0.86      0.87      0.87     38152\n",
      "weighted avg       0.86      0.87      0.87     38152\n",
      "\n"
     ]
    }
   ],
   "source": [
    "# Classification report for SVC\n",
    "\n",
    "print(classification_report(y_true_str_svc, y_pred_str_svc))"
   ]
  },
  {
   "cell_type": "code",
   "execution_count": 78,
   "metadata": {},
   "outputs": [
    {
     "name": "stdout",
     "output_type": "stream",
     "text": [
      "Training accuracy :  0.9998864182429776\n",
      "Test accuracy :  0.9862130425665758\n"
     ]
    }
   ],
   "source": [
    "# Randomforest() classifier.\n",
    "\n",
    "rf_, y_true_str_rf, y_pred_str_rf = model(RandomForestClassifier(),X_train_Ovrsampled, y_train_Ovrsampled, X_test_Ovrsampled, y_test_Ovrsampled, name = \"Test\")"
   ]
  },
  {
   "cell_type": "code",
   "execution_count": 79,
   "metadata": {},
   "outputs": [
    {
     "name": "stdout",
     "output_type": "stream",
     "text": [
      "              precision    recall  f1-score   support\n",
      "\n",
      "           0       0.96      0.77      0.85      1816\n",
      "           1       0.99      0.99      0.99      1816\n",
      "           2       0.99      1.00      0.99      1817\n",
      "           3       0.97      1.00      0.99      1817\n",
      "           4       0.99      1.00      1.00      1817\n",
      "           5       1.00      1.00      1.00      1817\n",
      "           6       0.92      0.97      0.94      1817\n",
      "           7       0.99      1.00      0.99      1817\n",
      "           8       1.00      1.00      1.00      1816\n",
      "           9       0.99      1.00      0.99      1817\n",
      "          10       1.00      1.00      1.00      1817\n",
      "          11       0.96      0.98      0.97      1817\n",
      "          12       0.97      1.00      0.99      1817\n",
      "          13       0.99      1.00      1.00      1817\n",
      "          14       1.00      1.00      1.00      1817\n",
      "          15       1.00      1.00      1.00      1816\n",
      "          16       1.00      1.00      1.00      1817\n",
      "          17       1.00      1.00      1.00      1816\n",
      "          18       1.00      1.00      1.00      1817\n",
      "          19       1.00      1.00      1.00      1817\n",
      "          20       1.00      1.00      1.00      1817\n",
      "\n",
      "    accuracy                           0.99     38152\n",
      "   macro avg       0.99      0.99      0.99     38152\n",
      "weighted avg       0.99      0.99      0.99     38152\n",
      "\n"
     ]
    }
   ],
   "source": [
    "# Classification report for RandomForest classifier\n",
    "\n",
    "print(classification_report(y_true_str_rf, y_pred_str_rf))"
   ]
  },
  {
   "cell_type": "code",
   "execution_count": 80,
   "metadata": {},
   "outputs": [
    {
     "name": "stdout",
     "output_type": "stream",
     "text": [
      "WARNING:tensorflow:From C:\\ProgramData\\Anaconda3\\lib\\site-packages\\tensorflow\\python\\framework\\op_def_library.py:263: colocate_with (from tensorflow.python.framework.ops) is deprecated and will be removed in a future version.\n",
      "Instructions for updating:\n",
      "Colocations handled automatically by placer.\n",
      "WARNING:tensorflow:From C:\\ProgramData\\Anaconda3\\lib\\site-packages\\tensorflow\\python\\ops\\math_ops.py:3066: to_int32 (from tensorflow.python.ops.math_ops) is deprecated and will be removed in a future version.\n",
      "Instructions for updating:\n",
      "Use tf.cast instead.\n",
      "114455/114455 [==============================] - 2s 18us/step\n",
      "Training accuracy :  0.9445633655189973\n",
      "38152/38152 [==============================] - 1s 19us/step\n",
      "\n",
      "Loss for test set of ANN : 0.3332766891838145\n",
      "Accuracy for test set of ANN is  0.9347347452296079\n"
     ]
    }
   ],
   "source": [
    "# ANN\n",
    "\n",
    "one_hot_train_y = keras.utils.to_categorical( y_train_Ovrsampled)\n",
    "one_hot_test_y = keras.utils.to_categorical(y_test_Ovrsampled)\n",
    "\n",
    "# Training ANN\n",
    "\n",
    "ann, history = ANN(X_train_Ovrsampled, one_hot_train_y)\n",
    "\n",
    "# Training accuracy\n",
    "\n",
    "print('Training accuracy : ',ann.evaluate(sc.transform(X_train_Ovrsampled), one_hot_train_y)[1])\n",
    "\n",
    "# Calculating loss and test accuracy\n",
    "\n",
    "loss_test, accuracy_test = ann.evaluate(sc.transform(X_test_Ovrsampled), one_hot_test_y)\n",
    "print()\n",
    "print(\"Loss for test set of ANN :\",loss_test)\n",
    "print(\"Accuracy for test set of ANN is \",accuracy_test)"
   ]
  },
  {
   "cell_type": "code",
   "execution_count": 81,
   "metadata": {},
   "outputs": [
    {
     "name": "stdout",
     "output_type": "stream",
     "text": [
      "              precision    recall  f1-score   support\n",
      "\n",
      "           0       0.81      0.43      0.57      1816\n",
      "           1       0.92      0.93      0.92      1816\n",
      "           2       0.92      0.93      0.93      1817\n",
      "           3       0.92      0.96      0.94      1817\n",
      "           4       0.94      0.97      0.95      1817\n",
      "           5       0.93      0.98      0.96      1817\n",
      "           6       0.83      0.83      0.83      1817\n",
      "           7       0.94      1.00      0.97      1817\n",
      "           8       0.98      1.00      0.99      1816\n",
      "           9       0.95      1.00      0.97      1817\n",
      "          10       0.98      1.00      0.99      1817\n",
      "          11       0.83      0.81      0.82      1817\n",
      "          12       0.83      0.88      0.85      1817\n",
      "          13       0.92      0.94      0.93      1817\n",
      "          14       0.92      0.99      0.95      1817\n",
      "          15       0.98      1.00      0.99      1816\n",
      "          16       1.00      1.00      1.00      1817\n",
      "          17       0.96      0.99      0.98      1816\n",
      "          18       1.00      1.00      1.00      1817\n",
      "          19       1.00      1.00      1.00      1817\n",
      "          20       1.00      1.00      1.00      1817\n",
      "\n",
      "    accuracy                           0.93     38152\n",
      "   macro avg       0.93      0.93      0.93     38152\n",
      "weighted avg       0.93      0.93      0.93     38152\n",
      "\n"
     ]
    }
   ],
   "source": [
    "# Classification report for ANN classifier\n",
    "\n",
    "print(classification_report(y_test_Ovrsampled, np.argmax(ann.predict(sc.transform(X_test_Ovrsampled)),axis=1)))"
   ]
  }
 ],
 "metadata": {
  "accelerator": "GPU",
  "colab": {
   "collapsed_sections": [],
   "name": "hvac_new1.ipynb",
   "provenance": [],
   "version": "0.3.2"
  },
  "kernelspec": {
   "display_name": "Python 3",
   "language": "python",
   "name": "python3"
  },
  "language_info": {
   "codemirror_mode": {
    "name": "ipython",
    "version": 3
   },
   "file_extension": ".py",
   "mimetype": "text/x-python",
   "name": "python",
   "nbconvert_exporter": "python",
   "pygments_lexer": "ipython3",
   "version": "3.7.3"
  }
 },
 "nbformat": 4,
 "nbformat_minor": 1
}
